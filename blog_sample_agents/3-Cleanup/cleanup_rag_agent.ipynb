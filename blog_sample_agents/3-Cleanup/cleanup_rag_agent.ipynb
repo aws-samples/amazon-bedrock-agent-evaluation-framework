{
 "cells": [
  {
   "cell_type": "markdown",
   "id": "5353afe6-a969-4878-97a3-213a6206fb6c",
   "metadata": {},
   "source": [
    "# Sample RAG Agent Cleanup\n",
    "In this section we clean up the resources created for the sample RAG agent"
   ]
  },
  {
   "cell_type": "markdown",
   "id": "b6dfeab2-3f2e-44cd-bd2a-4785312b47c7",
   "metadata": {},
   "source": [
    "#### Ensure the latest version of boto3 is shown below"
   ]
  },
  {
   "cell_type": "code",
   "execution_count": null,
   "id": "5ce4f3a3-2b73-4bbc-a2ba-77fcdb87262a",
   "metadata": {},
   "outputs": [],
   "source": [
    "!pip freeze | grep boto3"
   ]
  },
  {
   "cell_type": "markdown",
   "id": "608e1f20-13a0-4a1f-9f8d-a82cc7b2aa4c",
   "metadata": {},
   "source": [
    "#### Load in environment variables to notebook"
   ]
  },
  {
   "cell_type": "code",
   "execution_count": null,
   "id": "3ae0ce5f-9bc5-44da-8348-5d6ba3ac0960",
   "metadata": {},
   "outputs": [],
   "source": [
    "# Retrieve import path\n",
    "%store -r IMPORTS_PATH\n",
    "\n",
    "# Retrieve account info\n",
    "%store -r region\n",
    "\n",
    "# Retrive relevant resources\n",
    "%store -r wiki_bucket_name\n",
    "%store -r wiki_kb_id"
   ]
  },
  {
   "cell_type": "markdown",
   "id": "97a50653-c04e-416f-a316-321e91357ccd",
   "metadata": {},
   "source": [
    "#### Retrieve imports environment variable and bring libraries into notebook"
   ]
  },
  {
   "cell_type": "code",
   "execution_count": null,
   "id": "a48fec72-d0b9-460a-b5d1-a462f5849c86",
   "metadata": {},
   "outputs": [],
   "source": [
    "%run $IMPORTS_PATH"
   ]
  },
  {
   "cell_type": "markdown",
   "id": "cb3bcbc6-c01a-41e3-877d-32e44a49921b",
   "metadata": {},
   "source": [
    "#### Define Clients"
   ]
  },
  {
   "cell_type": "code",
   "execution_count": null,
   "id": "5b334a10-51bb-4328-a05d-f0b490d05fb2",
   "metadata": {},
   "outputs": [],
   "source": [
    "agents = AgentsForAmazonBedrock()\n",
    "s3_client = boto3.client('s3', region)\n",
    "bedrock_agent_client = boto3.client('bedrock-agent', region)"
   ]
  },
  {
   "cell_type": "markdown",
   "id": "76cd89f7-0fce-415c-b187-2fdea80eaabc",
   "metadata": {},
   "source": [
    "#### Destroy Sample RAG Agent"
   ]
  },
  {
   "cell_type": "code",
   "execution_count": null,
   "id": "50b4e188-6b3e-498a-aad9-cd205b1756e8",
   "metadata": {},
   "outputs": [],
   "source": [
    "agents.delete_agent(\"sample-rag-agent\",delete_role_flag=True)"
   ]
  },
  {
   "cell_type": "markdown",
   "id": "75cd4ee6-5b38-4196-8ec3-4566d6e8dcf1",
   "metadata": {},
   "source": [
    "#### Destroy S3 bucket"
   ]
  },
  {
   "cell_type": "code",
   "execution_count": null,
   "id": "d14ce6a2-5bf4-49ef-b365-cdf526f90b94",
   "metadata": {},
   "outputs": [],
   "source": [
    " # First, delete all objects and versions in the bucket\n",
    "s3_resource = boto3.resource('s3')\n",
    "bucket = s3_resource.Bucket(wiki_bucket_name)\n",
    "\n",
    "# Delete all objects and their versions\n",
    "bucket.objects.all().delete()\n",
    "bucket.object_versions.all().delete()\n",
    "\n",
    "# Now delete the empty bucket\n",
    "s3_client.delete_bucket(Bucket=wiki_bucket_name)\n",
    "print(f\"Bucket {wiki_bucket_name} has been successfully deleted\")"
   ]
  },
  {
   "cell_type": "markdown",
   "id": "d30277c6-3306-41c6-9dc5-b245ba485b9e",
   "metadata": {},
   "source": [
    "#### Destroy Knowledge Base"
   ]
  },
  {
   "cell_type": "code",
   "execution_count": null,
   "id": "d8138843-a45c-4142-931b-db8113f11139",
   "metadata": {},
   "outputs": [],
   "source": [
    "bedrock_agent_client.delete_knowledge_base(knowledgeBaseId=wiki_kb_id)\n",
    "print(f\"Knowledge base {wiki_kb_id} has been successfully deleted\")"
   ]
  }
 ],
 "metadata": {
  "kernelspec": {
   "display_name": "conda_python3",
   "language": "python",
   "name": "conda_python3"
  },
  "language_info": {
   "codemirror_mode": {
    "name": "ipython",
    "version": 3
   },
   "file_extension": ".py",
   "mimetype": "text/x-python",
   "name": "python",
   "nbconvert_exporter": "python",
   "pygments_lexer": "ipython3",
   "version": "3.10.16"
  }
 },
 "nbformat": 4,
 "nbformat_minor": 5
}
