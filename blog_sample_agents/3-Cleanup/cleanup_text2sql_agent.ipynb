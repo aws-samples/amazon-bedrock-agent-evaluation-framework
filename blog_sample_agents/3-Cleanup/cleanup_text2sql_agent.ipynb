{
 "cells": [
  {
   "cell_type": "markdown",
   "id": "5353afe6-a969-4878-97a3-213a6206fb6c",
   "metadata": {},
   "source": [
    "# Sample Text2SQL Agent Cleanup\n",
    "In this section we clean up the resources created for the sample Text2SQL agent"
   ]
  },
  {
   "cell_type": "markdown",
   "id": "b6dfeab2-3f2e-44cd-bd2a-4785312b47c7",
   "metadata": {},
   "source": [
    "#### Ensure the latest version of boto3 is shown below"
   ]
  },
  {
   "cell_type": "code",
   "execution_count": 16,
   "id": "5ce4f3a3-2b73-4bbc-a2ba-77fcdb87262a",
   "metadata": {},
   "outputs": [
    {
     "name": "stdout",
     "output_type": "stream",
     "text": [
      "boto3==1.37.2\n"
     ]
    }
   ],
   "source": [
    "!pip freeze | grep boto3"
   ]
  },
  {
   "cell_type": "markdown",
   "id": "608e1f20-13a0-4a1f-9f8d-a82cc7b2aa4c",
   "metadata": {},
   "source": [
    "#### Load in environment variables to notebook"
   ]
  },
  {
   "cell_type": "code",
   "execution_count": 18,
   "id": "3ae0ce5f-9bc5-44da-8348-5d6ba3ac0960",
   "metadata": {},
   "outputs": [],
   "source": [
    "# Retrieve import path\n",
    "%store -r IMPORTS_PATH\n",
    "\n",
    "# Retrieve account info\n",
    "%store -r region\n",
    "\n",
    "# Retrive relevant resources\n",
    "%store -r base_bucket_name\n",
    "%store -r athena_results_bucket_name\n",
    "%store -r athena_database_name\n",
    "%store -r text2sql_lambda_function_name"
   ]
  },
  {
   "cell_type": "markdown",
   "id": "97a50653-c04e-416f-a316-321e91357ccd",
   "metadata": {},
   "source": [
    "#### Retrieve imports environment variable and bring libraries into notebook"
   ]
  },
  {
   "cell_type": "code",
   "execution_count": 19,
   "id": "a48fec72-d0b9-460a-b5d1-a462f5849c86",
   "metadata": {},
   "outputs": [
    {
     "name": "stdout",
     "output_type": "stream",
     "text": [
      "Successfully imported necessary libraries into notebook\n"
     ]
    }
   ],
   "source": [
    "%run $IMPORTS_PATH"
   ]
  },
  {
   "cell_type": "markdown",
   "id": "cb3bcbc6-c01a-41e3-877d-32e44a49921b",
   "metadata": {},
   "source": [
    "#### Define Clients"
   ]
  },
  {
   "cell_type": "code",
   "execution_count": 20,
   "id": "5b334a10-51bb-4328-a05d-f0b490d05fb2",
   "metadata": {},
   "outputs": [],
   "source": [
    "agents = AgentsForAmazonBedrock()\n",
    "s3_client = boto3.client('s3', region)\n",
    "lambda_client = boto3.client('lambda', region)"
   ]
  },
  {
   "cell_type": "markdown",
   "id": "76cd89f7-0fce-415c-b187-2fdea80eaabc",
   "metadata": {},
   "source": [
    "#### Destroy Sample Text2SQL Agent"
   ]
  },
  {
   "cell_type": "code",
   "execution_count": 21,
   "id": "50b4e188-6b3e-498a-aad9-cd205b1756e8",
   "metadata": {},
   "outputs": [
    {
     "name": "stdout",
     "output_type": "stream",
     "text": [
      "Deleting alias 2DY21TOOXE from agent SNKOEJYUCZ\n",
      "Deleting alias TSTALIASID from agent SNKOEJYUCZ\n"
     ]
    }
   ],
   "source": [
    "agents.delete_agent(\"sample-text2sql-agent\",delete_role_flag=True)"
   ]
  },
  {
   "cell_type": "markdown",
   "id": "97cb4b21-b689-4618-b5b1-2b4bccb53888",
   "metadata": {},
   "source": [
    "#### Destroy Athena database"
   ]
  },
  {
   "cell_type": "code",
   "execution_count": 24,
   "id": "fd871e69-4fd0-438f-b2d6-1272754b6c82",
   "metadata": {},
   "outputs": [
    {
     "name": "stdout",
     "output_type": "stream",
     "text": [
      "Dropped table: frpm\n",
      "Dropped table: satscores\n",
      "Dropped table: schools\n",
      "Dropped database: california_schools\n"
     ]
    }
   ],
   "source": [
    "def execute_query(query, database):\n",
    "    athena_client = boto3.client('athena')\n",
    "    return athena_client.start_query_execution(\n",
    "        QueryString=query,\n",
    "        QueryExecutionContext={'Database': database},\n",
    "        ResultConfiguration={'OutputLocation': f's3://{athena_results_bucket_name}/'}\n",
    "    )\n",
    "\n",
    "def delete_all_tables_and_database():\n",
    "    athena_client = boto3.client('athena')\n",
    "\n",
    "    # Get all tables\n",
    "    tables = [t['Name'] for t in athena_client.list_table_metadata(\n",
    "        CatalogName='AwsDataCatalog',  # Add this parameter\n",
    "        DatabaseName=athena_database_name\n",
    "    )['TableMetadataList']]\n",
    "\n",
    "    # Drop all tables\n",
    "    for table in tables:\n",
    "        execute_query(f\"DROP TABLE IF EXISTS `{table}`\", athena_database_name)\n",
    "        print(f\"Dropped table: {table}\")\n",
    "\n",
    "    # Drop the database\n",
    "    execute_query(f\"DROP DATABASE IF EXISTS `{athena_database_name}`\", 'default')\n",
    "    print(f\"Dropped database: {athena_database_name}\")\n",
    "\n",
    "delete_all_tables_and_database()"
   ]
  },
  {
   "cell_type": "markdown",
   "id": "75cd4ee6-5b38-4196-8ec3-4566d6e8dcf1",
   "metadata": {},
   "source": [
    "#### Destroy S3 buckets"
   ]
  },
  {
   "cell_type": "code",
   "execution_count": 36,
   "id": "d14ce6a2-5bf4-49ef-b365-cdf526f90b94",
   "metadata": {},
   "outputs": [
    {
     "name": "stdout",
     "output_type": "stream",
     "text": [
      "Bucket text2sql-agent-861276117215-02e05f has been successfully deleted\n",
      "Bucket text2sql-athena-results-861276117215-7b5bbc has been successfully deleted\n"
     ]
    }
   ],
   "source": [
    "s3_resource = boto3.resource('s3')\n",
    "\n",
    "# Delete contents of base bucket\n",
    "bucket1 = s3_resource.Bucket(base_bucket_name)\n",
    "bucket1.objects.all().delete()\n",
    "bucket1.object_versions.all().delete()\n",
    "\n",
    "# Delete contents of Athena results bucket\n",
    "bucket2 = s3_resource.Bucket(athena_results_bucket_name)\n",
    "bucket2.objects.all().delete()\n",
    "bucket2.object_versions.all().delete()\n",
    "\n",
    "# Delete the empty buckets\n",
    "s3_client = boto3.client('s3')\n",
    "s3_client.delete_bucket(Bucket=base_bucket_name)\n",
    "s3_client.delete_bucket(Bucket=athena_results_bucket_name)\n",
    "\n",
    "print(f\"Bucket {base_bucket_name} has been successfully deleted\")\n",
    "print(f\"Bucket {athena_results_bucket_name} has been successfully deleted\")"
   ]
  },
  {
   "cell_type": "markdown",
   "id": "e5ed5a54-add4-480c-8c35-820e323490ad",
   "metadata": {},
   "source": [
    "#### Destroy Lambda function"
   ]
  },
  {
   "cell_type": "code",
   "execution_count": 38,
   "id": "0ea468e1-dda9-4c8c-89ee-958e009f0980",
   "metadata": {},
   "outputs": [
    {
     "name": "stdout",
     "output_type": "stream",
     "text": [
      "Successfully deleted Lambda function: text2sql\n"
     ]
    }
   ],
   "source": [
    "lambda_client.delete_function(FunctionName=text2sql_lambda_function_name)\n",
    "print(f\"Successfully deleted Lambda function: {text2sql_lambda_function_name}\")"
   ]
  }
 ],
 "metadata": {
  "kernelspec": {
   "display_name": "conda_python3",
   "language": "python",
   "name": "conda_python3"
  },
  "language_info": {
   "codemirror_mode": {
    "name": "ipython",
    "version": 3
   },
   "file_extension": ".py",
   "mimetype": "text/x-python",
   "name": "python",
   "nbconvert_exporter": "python",
   "pygments_lexer": "ipython3",
   "version": "3.10.16"
  }
 },
 "nbformat": 4,
 "nbformat_minor": 5
}
