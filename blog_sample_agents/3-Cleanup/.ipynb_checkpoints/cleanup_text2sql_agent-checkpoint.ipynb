{
 "cells": [
  {
   "cell_type": "markdown",
   "id": "c7705470-46ed-4942-a5da-85ff666aec69",
   "metadata": {},
   "source": [
    "# Sample Text2SQL Agent Cleanup"
   ]
  },
  {
   "cell_type": "code",
   "execution_count": null,
   "id": "0fd8fc38-7162-460b-b43e-c9e4f244d3dc",
   "metadata": {},
   "outputs": [],
   "source": []
  }
 ],
 "metadata": {
  "kernelspec": {
   "display_name": "conda_python3",
   "language": "python",
   "name": "conda_python3"
  },
  "language_info": {
   "codemirror_mode": {
    "name": "ipython",
    "version": 3
   },
   "file_extension": ".py",
   "mimetype": "text/x-python",
   "name": "python",
   "nbconvert_exporter": "python",
   "pygments_lexer": "ipython3",
   "version": "3.10.16"
  }
 },
 "nbformat": 4,
 "nbformat_minor": 5
}
