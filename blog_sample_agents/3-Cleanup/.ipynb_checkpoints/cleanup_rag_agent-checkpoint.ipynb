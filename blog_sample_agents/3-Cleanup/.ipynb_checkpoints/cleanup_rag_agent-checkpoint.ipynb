{
 "cells": [
  {
   "cell_type": "markdown",
   "id": "5353afe6-a969-4878-97a3-213a6206fb6c",
   "metadata": {},
   "source": [
    "# Sample RAG Agent Cleanup"
   ]
  },
  {
   "cell_type": "code",
   "execution_count": null,
   "id": "b13c91d9-3b74-4359-9cd5-9cf0766adbfc",
   "metadata": {},
   "outputs": [],
   "source": []
  }
 ],
 "metadata": {
  "kernelspec": {
   "display_name": "conda_python3",
   "language": "python",
   "name": "conda_python3"
  },
  "language_info": {
   "codemirror_mode": {
    "name": "ipython",
    "version": 3
   },
   "file_extension": ".py",
   "mimetype": "text/x-python",
   "name": "python",
   "nbconvert_exporter": "python",
   "pygments_lexer": "ipython3",
   "version": "3.10.16"
  }
 },
 "nbformat": 4,
 "nbformat_minor": 5
}
