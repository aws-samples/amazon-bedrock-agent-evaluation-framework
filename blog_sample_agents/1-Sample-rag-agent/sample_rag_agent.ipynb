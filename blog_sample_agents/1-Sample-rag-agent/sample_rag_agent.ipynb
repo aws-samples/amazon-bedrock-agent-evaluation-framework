{
 "cells": [
  {
   "cell_type": "markdown",
   "metadata": {},
   "source": [
    "# Sample RAG Agent Walkthrough\n",
    "\n",
    "This notebook will walk users through setting up a sample RAG Agent and run it against the Hugging Face 'rag-mini-wikipedia' dataset (https://huggingface.co/datasets/rag-datasets/rag-mini-wikipedia)"
   ]
  },
  {
   "cell_type": "markdown",
   "metadata": {},
   "source": [
    "#### Ensure the latest version of boto3 is shown below\n",
    "\n",
    "##### If not then run through setup_environment.ipynb in the 0-Notebook-environment/ folder"
   ]
  },
  {
   "cell_type": "code",
   "execution_count": 49,
   "metadata": {},
   "outputs": [
    {
     "name": "stdout",
     "output_type": "stream",
     "text": [
      "boto3==1.36.24\n"
     ]
    }
   ],
   "source": [
    "!pip freeze | grep boto3"
   ]
  },
  {
   "cell_type": "markdown",
   "metadata": {},
   "source": [
    "#### Load in environment variables to notebook"
   ]
  },
  {
   "cell_type": "code",
   "execution_count": 50,
   "metadata": {},
   "outputs": [],
   "source": [
    "# Retrieve import path\n",
    "%store -r IMPORTS_PATH\n",
    "\n",
    "# Retrieve account info\n",
    "%store -r account_id\n",
    "%store -r region\n",
    "\n",
    "# Retrieve model lists\n",
    "%store -r agent_foundation_model"
   ]
  },
  {
   "cell_type": "markdown",
   "metadata": {},
   "source": [
    "#### Retrieve imports environment variable and bring libraries into notebook"
   ]
  },
  {
   "cell_type": "code",
   "execution_count": 51,
   "metadata": {},
   "outputs": [
    {
     "name": "stderr",
     "output_type": "stream",
     "text": [
      "/home/ec2-user/anaconda3/envs/python3/lib/python3.10/site-packages/pydantic/_internal/_fields.py:192: UserWarning: Field name \"json\" in \"MonitoringDatasetFormat\" shadows an attribute in parent \"Base\"\n",
      "  warnings.warn(\n"
     ]
    },
    {
     "data": {
      "text/html": [
       "<pre style=\"white-space:pre;overflow-x:auto;line-height:normal;font-family:Menlo,'DejaVu Sans Mono',consolas,'Courier New',monospace\"><span style=\"color: #7fbfbf; text-decoration-color: #7fbfbf\">[02/19/25 21:05:09] </span><span style=\"color: #0069ff; text-decoration-color: #0069ff; font-weight: bold\">INFO    </span> Found credentials from IAM Role:                                   <a href=\"file:///home/ec2-user/anaconda3/envs/python3/lib/python3.10/site-packages/botocore/credentials.py\" target=\"_blank\"><span style=\"color: #7f7f7f; text-decoration-color: #7f7f7f\">credentials.py</span></a><span style=\"color: #7f7f7f; text-decoration-color: #7f7f7f\">:</span><a href=\"file:///home/ec2-user/anaconda3/envs/python3/lib/python3.10/site-packages/botocore/credentials.py#1075\" target=\"_blank\"><span style=\"color: #7f7f7f; text-decoration-color: #7f7f7f\">1075</span></a>\n",
       "<span style=\"color: #7fbfbf; text-decoration-color: #7fbfbf\">                    </span>         BaseNotebookInstanceEc2InstanceRole                                <span style=\"color: #7f7f7f; text-decoration-color: #7f7f7f\">                   </span>\n",
       "</pre>\n"
      ],
      "text/plain": [
       "\u001b[2;36m[02/19/25 21:05:09]\u001b[0m\u001b[2;36m \u001b[0m\u001b[1;38;2;0;105;255mINFO    \u001b[0m Found credentials from IAM Role:                                   \u001b]8;id=448325;file:///home/ec2-user/anaconda3/envs/python3/lib/python3.10/site-packages/botocore/credentials.py\u001b\\\u001b[2mcredentials.py\u001b[0m\u001b]8;;\u001b\\\u001b[2m:\u001b[0m\u001b]8;id=889276;file:///home/ec2-user/anaconda3/envs/python3/lib/python3.10/site-packages/botocore/credentials.py#1075\u001b\\\u001b[2m1075\u001b[0m\u001b]8;;\u001b\\\n",
       "\u001b[2;36m                    \u001b[0m         BaseNotebookInstanceEc2InstanceRole                                \u001b[2m                   \u001b[0m\n"
      ]
     },
     "metadata": {},
     "output_type": "display_data"
    },
    {
     "name": "stdout",
     "output_type": "stream",
     "text": [
      "sagemaker.config INFO - Not applying SDK defaults from location: /etc/xdg/sagemaker/config.yaml\n",
      "sagemaker.config INFO - Not applying SDK defaults from location: /home/ec2-user/.config/sagemaker/config.yaml\n",
      "Successfully imported necessary libraries into notebook\n"
     ]
    }
   ],
   "source": [
    "%run $IMPORTS_PATH"
   ]
  },
  {
   "cell_type": "markdown",
   "metadata": {},
   "source": [
    "# Prerequisites\n",
    "\n",
    "This notebook assumes that you have gone through the notebook environment setup in the 0-Notebook-environment/ folder and deployed Langfuse v3 to your local AWS environment"
   ]
  },
  {
   "cell_type": "markdown",
   "metadata": {},
   "source": [
    "# Data Preparation"
   ]
  },
  {
   "cell_type": "markdown",
   "metadata": {},
   "source": [
    "### Retrieve Hugging Face 'rag-mini-wikipedia'"
   ]
  },
  {
   "cell_type": "code",
   "execution_count": 52,
   "metadata": {},
   "outputs": [],
   "source": [
    "# Retrieves dataset corpus using Datasets Python library\n",
    "\n",
    "ds_corpus = load_dataset(\"rag-datasets/rag-mini-wikipedia\", \"text-corpus\")"
   ]
  },
  {
   "cell_type": "markdown",
   "metadata": {},
   "source": [
    "### Write text corpus to file and upload to Amazon S3 to use as data source for knowledge base"
   ]
  },
  {
   "cell_type": "code",
   "execution_count": 55,
   "metadata": {},
   "outputs": [],
   "source": [
    "# Write whole corpus to a .txt file\n",
    "\n",
    "with open('1-Sample-rag-agent/mini_wiki.txt', 'w') as f:\n",
    "    f.write(str(ds_corpus['passages']['passage']))"
   ]
  },
  {
   "cell_type": "markdown",
   "metadata": {},
   "source": [
    "Note: You can now view the whole Wikipedia corpus in mini_wiki.txt"
   ]
  },
  {
   "cell_type": "code",
   "execution_count": 57,
   "metadata": {},
   "outputs": [
    {
     "data": {
      "text/plain": [
       "{'ResponseMetadata': {'RequestId': 'F4BSJFDDV12AQYDT',\n",
       "  'HostId': 'EjQNdiJPAx1wNfP8jhI7bHhpQ1d4Z2K5qUxQbLnyyHumNg7//9eX+B/eHtBJd964ve+DL8qWQio=',\n",
       "  'HTTPStatusCode': 200,\n",
       "  'HTTPHeaders': {'x-amz-id-2': 'EjQNdiJPAx1wNfP8jhI7bHhpQ1d4Z2K5qUxQbLnyyHumNg7//9eX+B/eHtBJd964ve+DL8qWQio=',\n",
       "   'x-amz-request-id': 'F4BSJFDDV12AQYDT',\n",
       "   'date': 'Wed, 19 Feb 2025 21:19:55 GMT',\n",
       "   'location': 'http://rag-mini-wikipedia-data-761018876800.s3.amazonaws.com/',\n",
       "   'content-length': '0',\n",
       "   'server': 'AmazonS3'},\n",
       "  'RetryAttempts': 0},\n",
       " 'Location': 'http://rag-mini-wikipedia-data-761018876800.s3.amazonaws.com/'}"
      ]
     },
     "execution_count": 57,
     "metadata": {},
     "output_type": "execute_result"
    }
   ],
   "source": [
    "# Create Amazon S3 bucket and upload .txt. file to Amazon S3 bucket\n",
    "\n",
    "s3_client = boto3.client('s3')\n",
    "\n",
    "bucket_name = f\"rag-mini-wikipedia-data-{account_id}\"\n",
    "\n",
    "s3_client.create_bucket(\n",
    "    Bucket=bucket_name,\n",
    "    CreateBucketConfiguration={\n",
    "        'LocationConstraint': region\n",
    "    }\n",
    ")"
   ]
  },
  {
   "cell_type": "code",
   "execution_count": 59,
   "metadata": {},
   "outputs": [],
   "source": [
    "# Place .txt corpus in S3 bucket\n",
    "\n",
    "s3_client.upload_file('1-Sample-rag-agent/mini_wiki.txt', bucket_name, 'mini_wiki.txt')"
   ]
  },
  {
   "cell_type": "markdown",
   "metadata": {},
   "source": [
    "### Create Bedrock Knowledge Base\n",
    "#### Follow the steps below to create a Bedrock Knowledge Base in the AWS Console manually"
   ]
  },
  {
   "cell_type": "markdown",
   "metadata": {},
   "source": [
    "Step 1: Navigate to the 'Amazon Bedrock' service in the AWS Console and navigate to the 'Knowledge Bases' section\n",
    "\n",
    "Step 2: Click 'Create' and select 'Knowledge Base with vector store'\n",
    "\n",
    "Step 3: Name the Knowledge Base 'mini-wiki-kb' and select the Amazon S3 data source radio button\n",
    "\n",
    "Step 4: Name the data source 'mini-wiki-data' and select the S3 bucket file 'mini_wiki.txt' that was uploaded, \n",
    "        e.x. s3://rag-mini-wikipedia-data-XXXXXXXXXXXX/mini_wiki.txt\n",
    "\n",
    "Step 5: Select the 'Titan Embeddings G1 - Text V1.2' embedding model and create Amazon OpenSearch Serverless with the quick create option\n",
    "\n",
    "Step 6: Now create the knowledge base\n",
    "\n",
    "Step 7: Manually sync the data source with the knowledge base by clicking on the data source and selecting 'Sync'"
   ]
  },
  {
   "cell_type": "code",
   "execution_count": 76,
   "metadata": {},
   "outputs": [
    {
     "name": "stdout",
     "output_type": "stream",
     "text": [
      "Found knowledge base ID: LLOLPSDWLU\n"
     ]
    }
   ],
   "source": [
    "# Fetch knowledge base ARN\n",
    "\n",
    "bedrock_agent_client = boto3.client(\"bedrock-agent\", region)\n",
    "\n",
    "# Call the list_knowledge_bases method\n",
    "response = bedrock_agent_client.list_knowledge_bases()\n",
    "kb_id = None\n",
    "\n",
    "# Iterate through knowledge bases and find needed one\n",
    "if 'knowledgeBaseSummaries' in response:\n",
    "    for kb in response['knowledgeBaseSummaries']:\n",
    "        if 'rag-mini-wiki-kb-official' in kb['name']:\n",
    "            kb_id = kb['knowledgeBaseId']\n",
    "            break\n",
    "\n",
    "response = bedrock_agent_client.get_knowledge_base(\n",
    "    knowledgeBaseId=kb_id\n",
    ")\n",
    "\n",
    "kb_arn = [response['knowledgeBase']['knowledgeBaseArn']]\n",
    "\n",
    "print(f\"Found knowledge base ARN: {})"
   ]
  },
  {
   "cell_type": "markdown",
   "metadata": {},
   "source": [
    "### Create RAG Agent"
   ]
  },
  {
   "cell_type": "code",
   "execution_count": 79,
   "metadata": {},
   "outputs": [],
   "source": [
    "agent_foundation_model = [\"anthropic.claude-3-5-sonnet-20241022-v2:0\"]\n",
    "agent_name = 'sample-rag-agent-test'\n",
    "agent_description = \"RAG agent to run against the Hugging Face 'rag-mini-wikipedia' dataset\"\n",
    "agent_instruction = \"\"\"Use the associated knowledge base to answer questions.\"\"\""
   ]
  },
  {
   "cell_type": "code",
   "execution_count": 80,
   "metadata": {},
   "outputs": [
    {
     "data": {
      "text/plain": [
       "('4YAR7X7KGG',\n",
       " 'TSTALIASID',\n",
       " 'arn:aws:bedrock:us-west-2:761018876800:agent-alias/4YAR7X7KGG/TSTALIASID')"
      ]
     },
     "execution_count": 80,
     "metadata": {},
     "output_type": "execute_result"
    }
   ],
   "source": [
    "agents = AgentsForAmazonBedrock()\n",
    "\n",
    "# Add parameter with kb_arn based on newly created knowledge base\n",
    "rag_agent = agents.create_agent(\n",
    "    agent_name,\n",
    "    agent_description,\n",
    "    agent_instruction,\n",
    "    agent_foundation_model,\n",
    "    kb_arn,\n",
    "    code_interpretation=False,\n",
    "    verbose=False\n",
    ")\n",
    "\n",
    "rag_agent"
   ]
  },
  {
   "cell_type": "markdown",
   "metadata": {},
   "source": [
    "### Test RAG Agent"
   ]
  },
  {
   "cell_type": "markdown",
   "metadata": {},
   "source": [
    "#### Invoke Sample RAG Agent Test Alias to see that it answers question properly"
   ]
  },
  {
   "cell_type": "code",
   "execution_count": 84,
   "metadata": {},
   "outputs": [
    {
     "name": "stdout",
     "output_type": "stream",
     "text": [
      "Request sent to Agent:\n",
      "{'ResponseMetadata': {'RequestId': 'ec31f3e7-8457-40c2-9517-c516b686c922', 'HTTPStatusCode': 200, 'HTTPHeaders': {'date': 'Thu, 20 Feb 2025 00:39:17 GMT', 'content-type': 'application/vnd.amazon.eventstream', 'transfer-encoding': 'chunked', 'connection': 'keep-alive', 'x-amzn-requestid': 'ec31f3e7-8457-40c2-9517-c516b686c922', 'x-amz-bedrock-agent-session-id': '1dc66c1a-ef23-11ef-b3d3-063ee2632e5d', 'x-amzn-bedrock-agent-content-type': 'application/json'}, 'RetryAttempts': 0}, 'contentType': 'application/json', 'sessionId': '1dc66c1a-ef23-11ef-b3d3-063ee2632e5d', 'completion': <botocore.eventstream.EventStream object at 0x7f9d95b9f640>}\n",
      "====================\n",
      "Agent processing query now\n",
      "====================\n",
      "Agent Answer: Grace Bedell, an 11-year-old girl from Westfield, New York, wrote a letter to Abraham Lincoln in 1860 suggesting he grow a beard to improve his appearance and help him win the presidency. Lincoln responded to her letter and began growing his now-famous beard.\n",
      "====================\n"
     ]
    }
   ],
   "source": [
    "# Ask example question to agent\n",
    "\n",
    "bedrock_agent_runtime_client = boto3.client(\"bedrock-agent-runtime\", region)\n",
    "\n",
    "session_id:str = str(uuid.uuid1())\n",
    "\n",
    "test_query = \"Who suggested Lincoln grow a beard?\"\n",
    "response = bedrock_agent_runtime_client.invoke_agent(\n",
    "      inputText=test_query,\n",
    "      agentId=rag_agent_id,\n",
    "      agentAliasId=\"TSTALIASID\", \n",
    "      sessionId=session_id,\n",
    "      enableTrace=True, \n",
    "      endSession=False,\n",
    "      sessionState={}\n",
    ")\n",
    "\n",
    "print(\"Request sent to Agent:\\n{}\".format(response))\n",
    "print(\"====================\")\n",
    "print(\"Agent processing query now\")\n",
    "print(\"====================\")\n",
    "\n",
    "# Initialize an empty string to store the answer\n",
    "answer = \"\"\n",
    "\n",
    "# Iterate through the event stream\n",
    "for event in response['completion']:\n",
    "    # Check if the event is a 'chunk' event\n",
    "    if 'chunk' in event:\n",
    "        chunk_obj = event['chunk']\n",
    "        if 'bytes' in chunk_obj:\n",
    "            # Decode the bytes and append to the answer\n",
    "            chunk_data = chunk_obj['bytes'].decode('utf-8')\n",
    "            answer += chunk_data\n",
    "\n",
    "# Now 'answer' contains the full response from the agent\n",
    "print(\"Agent Answer: {}\".format(answer))\n",
    "print(\"====================\")"
   ]
  },
  {
   "cell_type": "markdown",
   "metadata": {},
   "source": [
    "#### Prepare agent and create alias for use with evaluation framework"
   ]
  },
  {
   "cell_type": "code",
   "execution_count": 81,
   "metadata": {},
   "outputs": [
    {
     "data": {
      "text/plain": [
       "('4YAR7X7KGG', 'arn:aws:bedrock:us-west-2:761018876800:agent/4YAR7X7KGG')"
      ]
     },
     "execution_count": 81,
     "metadata": {},
     "output_type": "execute_result"
    }
   ],
   "source": [
    "rag_agent_id = rag_agent[0]\n",
    "rag_agent_arn = f\"arn:aws:bedrock:{region}:{account_id}:agent/{rag_agent_id}\"\n",
    "\n",
    "rag_agent_id, rag_agent_arn"
   ]
  },
  {
   "cell_type": "markdown",
   "metadata": {},
   "source": [
    "### Create input .json file for all RAG using ground truth provided by Hugging Face dataset"
   ]
  },
  {
   "cell_type": "code",
   "execution_count": 66,
   "metadata": {},
   "outputs": [
    {
     "name": "stdout",
     "output_type": "stream",
     "text": [
      "DatasetDict({\n",
      "    test: Dataset({\n",
      "        features: ['question', 'answer', 'id'],\n",
      "        num_rows: 918\n",
      "    })\n",
      "})\n"
     ]
    }
   ],
   "source": [
    "# Create input json data file for evaluation framework and place so it can be run by evaluation framework by user\n",
    "\n",
    "ds_qa = load_dataset(\"rag-datasets/rag-mini-wikipedia\", \"question-answer\")\n",
    "\n",
    "# Create the dictionary structure\n",
    "input_data_dict = {\n",
    "    \"RAG\": []\n",
    "}\n",
    "\n",
    "# Iterate through all elements in the test split and add them to the RAG list\n",
    "for data in ds_qa['test']:\n",
    "    \n",
    "    # Incorporate evaluation_type tag in qa_pair and also use for biomarker solution trajectories\n",
    "    qa_pair = {\n",
    "        \"question_id\": data['id'],\n",
    "        \"question\": data['question'],\n",
    "        \"ground_truth\": data['answer'],\n",
    "        \"evalution_type\": \"RAG\"\n",
    "    }   \n",
    "    input_data_dict[\"RAG\"].append(qa_pair)\n",
    "\n",
    "# Save to JSON file\n",
    "with open('1-Sample-rag-agent/rag_data_file_auto.json', 'w', encoding='utf-8') as f:\n",
    "    json.dump(input_data_dict, f, indent=4, ensure_ascii=False)"
   ]
  },
  {
   "cell_type": "code",
   "execution_count": 67,
   "metadata": {},
   "outputs": [],
   "source": [
    "# TODO: Write code to place input file so that evaluation framework can use\n",
    "# Lead user to now run evaluation framework against .json file"
   ]
  }
 ],
 "metadata": {
  "kernelspec": {
   "display_name": "conda_python3",
   "language": "python",
   "name": "conda_python3"
  },
  "language_info": {
   "codemirror_mode": {
    "name": "ipython",
    "version": 3
   },
   "file_extension": ".py",
   "mimetype": "text/x-python",
   "name": "python",
   "nbconvert_exporter": "python",
   "pygments_lexer": "ipython3",
   "version": "3.10.16"
  }
 },
 "nbformat": 4,
 "nbformat_minor": 4
}
