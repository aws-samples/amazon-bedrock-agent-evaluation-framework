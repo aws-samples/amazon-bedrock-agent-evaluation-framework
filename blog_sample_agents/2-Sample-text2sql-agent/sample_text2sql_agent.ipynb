{
 "cells": [
  {
   "cell_type": "markdown",
   "metadata": {},
   "source": [
    "# Sample Text2SQL Agent Walkthrough\n",
    "\n",
    "This notebook will walk users through setting up a generic Text2SQL Agent and run it against the BirdSQL - Mini Dev Dataset (https://github.com/bird-bench/mini_dev)"
   ]
  },
  {
   "cell_type": "markdown",
   "metadata": {},
   "source": [
    "#### Ensure the latest version of boto3 is shown below\n",
    "\n",
    "##### If not then run through setup_environment.ipynb in the 0-Notebook-environment/ folder"
   ]
  },
  {
   "cell_type": "code",
   "execution_count": 1,
   "metadata": {},
   "outputs": [
    {
     "name": "stdout",
     "output_type": "stream",
     "text": [
      "boto3==1.36.24\n",
      "pandas==1.5.3\n"
     ]
    }
   ],
   "source": [
    "!pip freeze | grep -E \"boto3|pandas\""
   ]
  },
  {
   "cell_type": "markdown",
   "metadata": {},
   "source": [
    "#### Load in environment variables to notebook"
   ]
  },
  {
   "cell_type": "code",
   "execution_count": 17,
   "metadata": {},
   "outputs": [],
   "source": [
    "# Retrieve import path\n",
    "%store -r IMPORTS_PATH\n",
    "\n",
    "# Retrieve account info\n",
    "%store -r account_id\n",
    "%store -r region\n",
    "\n",
    "# Retrieve model lists\n",
    "%store -r agent_foundation_model"
   ]
  },
  {
   "cell_type": "markdown",
   "metadata": {},
   "source": [
    "#### Retrieve imports environment variable and bring libraries into notebook"
   ]
  },
  {
   "cell_type": "code",
   "execution_count": 28,
   "metadata": {},
   "outputs": [
    {
     "name": "stderr",
     "output_type": "stream",
     "text": [
      "/home/ec2-user/anaconda3/envs/python3/lib/python3.10/site-packages/pydantic/_internal/_fields.py:192: UserWarning: Field name \"json\" in \"MonitoringDatasetFormat\" shadows an attribute in parent \"Base\"\n",
      "  warnings.warn(\n"
     ]
    },
    {
     "data": {
      "text/html": [
       "<pre style=\"white-space:pre;overflow-x:auto;line-height:normal;font-family:Menlo,'DejaVu Sans Mono',consolas,'Courier New',monospace\"><span style=\"color: #7fbfbf; text-decoration-color: #7fbfbf\">[02/21/25 19:51:13] </span><span style=\"color: #0069ff; text-decoration-color: #0069ff; font-weight: bold\">INFO    </span> Found credentials from IAM Role:                                   <a href=\"file:///home/ec2-user/anaconda3/envs/python3/lib/python3.10/site-packages/botocore/credentials.py\" target=\"_blank\"><span style=\"color: #7f7f7f; text-decoration-color: #7f7f7f\">credentials.py</span></a><span style=\"color: #7f7f7f; text-decoration-color: #7f7f7f\">:</span><a href=\"file:///home/ec2-user/anaconda3/envs/python3/lib/python3.10/site-packages/botocore/credentials.py#1075\" target=\"_blank\"><span style=\"color: #7f7f7f; text-decoration-color: #7f7f7f\">1075</span></a>\n",
       "<span style=\"color: #7fbfbf; text-decoration-color: #7fbfbf\">                    </span>         BaseNotebookInstanceEc2InstanceRole                                <span style=\"color: #7f7f7f; text-decoration-color: #7f7f7f\">                   </span>\n",
       "</pre>\n"
      ],
      "text/plain": [
       "\u001b[2;36m[02/21/25 19:51:13]\u001b[0m\u001b[2;36m \u001b[0m\u001b[1;38;2;0;105;255mINFO    \u001b[0m Found credentials from IAM Role:                                   \u001b]8;id=603539;file:///home/ec2-user/anaconda3/envs/python3/lib/python3.10/site-packages/botocore/credentials.py\u001b\\\u001b[2mcredentials.py\u001b[0m\u001b]8;;\u001b\\\u001b[2m:\u001b[0m\u001b]8;id=288280;file:///home/ec2-user/anaconda3/envs/python3/lib/python3.10/site-packages/botocore/credentials.py#1075\u001b\\\u001b[2m1075\u001b[0m\u001b]8;;\u001b\\\n",
       "\u001b[2;36m                    \u001b[0m         BaseNotebookInstanceEc2InstanceRole                                \u001b[2m                   \u001b[0m\n"
      ]
     },
     "metadata": {},
     "output_type": "display_data"
    },
    {
     "name": "stdout",
     "output_type": "stream",
     "text": [
      "sagemaker.config INFO - Not applying SDK defaults from location: /etc/xdg/sagemaker/config.yaml\n",
      "sagemaker.config INFO - Not applying SDK defaults from location: /home/ec2-user/.config/sagemaker/config.yaml\n",
      "Successfully imported necessary libraries into notebook\n"
     ]
    }
   ],
   "source": [
    "%run $IMPORTS_PATH"
   ]
  },
  {
   "cell_type": "code",
   "execution_count": 18,
   "metadata": {},
   "outputs": [],
   "source": [
    "# Store the variables in os\n",
    "os.environ['REGION'] = region\n",
    "os.environ['BASE_BUCKET_NAME'] = 'text2sql-agent'\n",
    "os.environ['ATHENA_RESULTS_BUCKET_NAME'] = 'text2sql-athena-results'\n",
    "os.environ['BASE_DIR'] = 'dev_databases'\n",
    "os.environ['DATABASE_NAME'] = 'california_schools'"
   ]
  },
  {
   "cell_type": "markdown",
   "metadata": {},
   "source": [
    "### Retrieve BirdSQL - Mini Dev Dataset"
   ]
  },
  {
   "cell_type": "code",
   "execution_count": 4,
   "metadata": {},
   "outputs": [
    {
     "name": "stdout",
     "output_type": "stream",
     "text": [
      "/bin/sh: line 0: cd: 2-Sample-text2sql-agent: No such file or directory\n",
      "--2025-02-21 18:04:43--  https://bird-bench.oss-cn-beijing.aliyuncs.com/dev.zip\n",
      "8.141.181.247d-bench.oss-cn-beijing.aliyuncs.com (bird-bench.oss-cn-beijing.aliyuncs.com)... \n",
      "connected. to bird-bench.oss-cn-beijing.aliyuncs.com (bird-bench.oss-cn-beijing.aliyuncs.com)|8.141.181.247|:443... \n",
      "HTTP request sent, awaiting response... 200 OK\n",
      "Length: 346207293 (330M) [application/zip]\n",
      "Saving to: ‘dev.zip’\n",
      "\n",
      "100%[======================================>] 346,207,293 14.2MB/s   in 22s    \n",
      "\n",
      "2025-02-21 18:05:05 (15.3 MB/s) - ‘dev.zip’ saved [346207293/346207293]\n",
      "\n"
     ]
    }
   ],
   "source": [
    "# Download .zip file to local directory\n",
    "\n",
    "!cd 2-Sample-text2sql-agent\n",
    "!wget https://bird-bench.oss-cn-beijing.aliyuncs.com/dev.zip"
   ]
  },
  {
   "cell_type": "markdown",
   "metadata": {},
   "source": [
    "## Set up Necessary services to run Text2SQL agent"
   ]
  },
  {
   "cell_type": "markdown",
   "metadata": {},
   "source": [
    "In order to run the Text2SQL agent, we will need to setup the Athena databases to make SQL queries against. The following script will:\n",
    "1. Unzip the downloaded folder\n",
    "2. Create S3 buckets\n",
    "3. Convert .sqlite files into individual .parquet files for each table\n",
    "4. Upload to the database s3 bucket\n",
    "5. Set up appropriate Athena permissions\n",
    "6. Create databases in Athena"
   ]
  },
  {
   "cell_type": "code",
   "execution_count": 22,
   "metadata": {},
   "outputs": [
    {
     "name": "stdout",
     "output_type": "stream",
     "text": [
      "Created input.json for agent\n"
     ]
    }
   ],
   "source": [
    "%run data_prep.py"
   ]
  },
  {
   "cell_type": "markdown",
   "metadata": {},
   "source": [
    "# Create Text2SQL Agent"
   ]
  },
  {
   "cell_type": "code",
   "execution_count": 37,
   "metadata": {},
   "outputs": [],
   "source": [
    "agent_foundation_model = [\"anthropic.claude-3-5-sonnet-20241022-v2:0\"]\n",
    "agent_name = 'test2sqlv2'\n",
    "agent_description = \"Text2SQL agent to run against Bird-SQL Mini-Dev benchmark dataset\"\n",
    "agent_instruction = \"\"\"\n",
    "You are an AI Agent specialized in generating SQL queries for Amazon Athena against Amazon S3 .parquet files. \n",
    "Your primary task is to interpret user queries, generate appropriate SQL queries, and provide the executed sql \n",
    "query as well as relevant answers based on the data. Follow these instructions carefully: 1. Before generating any \n",
    "SQL query, use the /getschema tool to familiarize yourself with the data structure. 2. When generating an SQL query: \n",
    "a. Write the query as a single line, removing all newline characters. b. Column names must be exactly as they appear \n",
    "in the schema, including spaces. Do not replace spaces with underscores. c. Always enclose column names that contain \n",
    "spaces in double quotes (\"). d. Be extra careful with column names containing special characters or spaces. \n",
    "3. Column name handling: a. Never modify column names. Use them exactly as they appear in the schema. \n",
    "b. If a column name contains spaces or special characters, always enclose it in double quotes (\"). \n",
    "c. Do not use underscores in place of spaces in column names. 4. Query output format: \n",
    "a. Always include the exact query that was run in your response. Start your response with \n",
    "\"Executed SQL Query:\" followed by the exact query that was run. b. Format the SQL query in a code block \n",
    "using three backticks (```). c. After the query, provide your explanation and analysis. \n",
    "5. When providing your response: a. Start with the executed SQL query as specified in step \n",
    "4. b. Double-check that all column names in your generated query match the schema exactly. \n",
    "c. Ask for clarifications from the user if required. 6. Error handling: a. \n",
    "If a query fails due to column name issues: - Review the schema and correct any mismatched column names. - \n",
    "Ensure all column names with spaces are enclosed in double quotes. - Regenerate the query with corrected column names. - \n",
    "Display both the failed query and the corrected query. b. Implement retry logic with up to 3 attempts for failed queries. \n",
    "Here are a few examples of generating SQL queries based on a question: \n",
    "Question: What is the highest eligible free rate for K-12 students in the schools in Alameda County? \n",
    "Executed SQL Query: \"SELECT `Free Meal Count (K-12)` / `Enrollment (K-12)` FROM frpm WHERE `County Name` = 'Alameda' \n",
    "ORDER BY (CAST(`Free Meal Count (K-12)` AS REAL) / `Enrollment (K-12)`) DESC LIMIT 1\" Question: Please list the zip \n",
    "code of all the charter schools in Fresno County Office of Education. Executed SQL Query: \"SELECT T2.Zip FROM frpm \n",
    "AS T1 INNER JOIN schools AS T2 ON T1.CDSCode = T2.CDSCode WHERE T1.`District Name` = 'Fresno County Office of Education' \n",
    "AND T1.`Charter School (Y/N)` = 1\" Question: Consider the average difference between K-12 enrollment and 15-17 enrollment \n",
    "of schools that are locally funded, list the names and DOC type of schools which has a difference above this average. \n",
    "Executed SQL Query: \"SELECT T2.School, T2.DOC FROM frpm AS T1 INNER JOIN schools AS T2 ON T1.CDSCode = T2.CDSCode \n",
    "WHERE T2.FundingType = 'Locally funded' AND (T1.`Enrollment (K-12)` - T1.`Enrollment (Ages 5-17)`) > \n",
    "(SELECT AVG(T3.`Enrollment (K-12)` - T3.`Enrollment (Ages 5-17)`) FROM frpm AS T3 INNER JOIN schools AS T4 ON T3.CDSCode = \n",
    "T4.CDSCode WHERE T4.FundingType = 'Locally funded')\"\n",
    "\"\"\"\n"
   ]
  },
  {
   "cell_type": "code",
   "execution_count": 38,
   "metadata": {},
   "outputs": [
    {
     "data": {
      "text/plain": [
       "('T1GQGO9KJI',\n",
       " 'TSTALIASID',\n",
       " 'arn:aws:bedrock:us-west-2:761018876800:agent-alias/T1GQGO9KJI/TSTALIASID')"
      ]
     },
     "execution_count": 38,
     "metadata": {},
     "output_type": "execute_result"
    }
   ],
   "source": [
    "agents = AgentsForAmazonBedrock()\n",
    "\n",
    "text2sql_agent = agents.create_agent(\n",
    "    agent_name,\n",
    "    agent_description,\n",
    "    agent_instruction,\n",
    "    agent_foundation_model,\n",
    "    code_interpretation=False,\n",
    "    verbose=False\n",
    ")\n",
    "\n",
    "text2sql_agent"
   ]
  },
  {
   "cell_type": "code",
   "execution_count": 39,
   "metadata": {},
   "outputs": [
    {
     "data": {
      "text/plain": [
       "('T1GQGO9KJI', 'arn:aws:bedrock:us-west-2:761018876800:agent/T1GQGO9KJI')"
      ]
     },
     "execution_count": 39,
     "metadata": {},
     "output_type": "execute_result"
    }
   ],
   "source": [
    "text2sql_agent_id = text2sql_agent[0]\n",
    "text2sql_agent_arn = f\"arn:aws:bedrock:{region}:{account_id}:agent/{text2sql_agent_id}\"\n",
    "\n",
    "text2sql_agent_id, text2sql_agent_arn"
   ]
  },
  {
   "cell_type": "code",
   "execution_count": 40,
   "metadata": {},
   "outputs": [],
   "source": [
    "api_schema_string = '''{\n",
    "    \"openapi\": \"3.0.1\",\n",
    "    \"info\": {\n",
    "      \"title\": \"Database schema look up and query APIs\",\n",
    "      \"version\": \"1.0.0\",\n",
    "      \"description\": \"APIs for looking up database table schemas and making queries to database tables.\"\n",
    "    },\n",
    "    \"paths\": {\n",
    "      \"/getschema\": {\n",
    "        \"get\": {\n",
    "          \"summary\": \"Get a list of all columns in the athena database\",\n",
    "          \"description\": \"Get the list of all columns in the athena database table. Return all the column information in database table.\",\n",
    "          \"operationId\": \"getschema\",\n",
    "          \"responses\": {\n",
    "            \"200\": {\n",
    "              \"description\": \"Gets the list of table names and their schemas in the database\",\n",
    "              \"content\": {\n",
    "                \"application/json\": {\n",
    "                  \"schema\": {\n",
    "                    \"type\": \"array\",\n",
    "                    \"items\": {\n",
    "                      \"type\": \"object\",\n",
    "                      \"properties\": {\n",
    "                        \"Table\": {\n",
    "                          \"type\": \"string\",\n",
    "                          \"description\": \"The name of the table in the database.\"\n",
    "                        },\n",
    "                        \"Schema\": {\n",
    "                          \"type\": \"string\",\n",
    "                          \"description\": \"The schema of the table in the database. Contains all columns needed for making queries.\"\n",
    "                        }\n",
    "                      }\n",
    "                    }\n",
    "                  }\n",
    "                }\n",
    "              }\n",
    "            }\n",
    "          }\n",
    "        }\n",
    "      },\n",
    "      \"/queryathena\": {\n",
    "        \"get\": {\n",
    "          \"summary\": \"API to send query to the athena database table\",\n",
    "          \"description\": \"Send a query to the database table to retrieve information pertaining to the users question. The API takes in only one SQL query at a time, sends the SQL statement and returns the query results from the table. This API should be called for each SQL query to a database table.\",\n",
    "          \"operationId\": \"queryathena\",\n",
    "          \"parameters\": [\n",
    "            {\n",
    "              \"name\": \"query\",\n",
    "              \"in\": \"query\",\n",
    "              \"required\": true,\n",
    "              \"schema\": {\n",
    "                \"type\": \"string\"\n",
    "              },\n",
    "              \"description\": \"SQL statement to query database table.\"\n",
    "            }\n",
    "          ],\n",
    "          \"responses\": {\n",
    "            \"200\": {\n",
    "              \"description\": \"Query sent successfully\",\n",
    "              \"content\": {\n",
    "                \"application/json\": {\n",
    "                  \"schema\": {\n",
    "                    \"type\": \"object\",\n",
    "                    \"properties\": {\n",
    "                      \"responseBody\": {\n",
    "                        \"type\": \"string\",\n",
    "                        \"description\": \"The query response from the database.\"\n",
    "                      }\n",
    "                    }\n",
    "                  }\n",
    "                }\n",
    "              }\n",
    "            },\n",
    "            \"400\": {\n",
    "              \"description\": \"Bad request. One or more required fields are missing or invalid.\"\n",
    "            }\n",
    "          }\n",
    "        }\n",
    "      }\n",
    "    }\n",
    "  } '''"
   ]
  },
  {
   "cell_type": "code",
   "execution_count": 41,
   "metadata": {},
   "outputs": [],
   "source": [
    "api_schema = {\"payload\": api_schema_string}"
   ]
  },
  {
   "cell_type": "markdown",
   "metadata": {},
   "source": [
    "### Attach Lambda function and create ActionGroup"
   ]
  },
  {
   "cell_type": "code",
   "execution_count": 42,
   "metadata": {},
   "outputs": [
    {
     "name": "stdout",
     "output_type": "stream",
     "text": [
      "Stored 'text2sql_lambda_function_arn' (str)\n"
     ]
    }
   ],
   "source": [
    "text2sql_lambda_function_name = \"text2sqlv2\"\n",
    "text2sql_lambda_function_arn = f\"arn:aws:lambda:{region}:{account_id}:function:{text2sql_lambda_function_name}\"\n",
    "%store text2sql_lambda_function_arn"
   ]
  },
  {
   "cell_type": "code",
   "execution_count": 43,
   "metadata": {},
   "outputs": [
    {
     "name": "stdout",
     "output_type": "stream",
     "text": [
      "Creating action group: queryAthena...\n",
      "Lambda ARN: arn:aws:lambda:us-west-2:761018876800:function:text2sqlv2\n",
      "Agent functions: None\n"
     ]
    }
   ],
   "source": [
    "agents.add_action_group_with_lambda(\n",
    "    agent_name=agent_name,\n",
    "    lambda_function_name=text2sql_lambda_function_name,\n",
    "    source_code_file=\"lambda_function.py\",\n",
    "    agent_action_group_name=\"queryAthena\",\n",
    "    agent_action_group_description=\"Action for getting the database schema and querying with Athena\",\n",
    "    api_schema=api_schema,\n",
    "    verbose=True\n",
    ")"
   ]
  },
  {
   "cell_type": "markdown",
   "metadata": {},
   "source": [
    "### Add resource based policy to Lambda function to allow agent to invoke"
   ]
  },
  {
   "cell_type": "code",
   "execution_count": 49,
   "metadata": {},
   "outputs": [
    {
     "name": "stdout",
     "output_type": "stream",
     "text": [
      "Resource policy added successfully.\n",
      "Response: {'ResponseMetadata': {'RequestId': '417dec72-64a4-402d-b580-5ef3baabe47f', 'HTTPStatusCode': 201, 'HTTPHeaders': {'date': 'Fri, 21 Feb 2025 20:01:42 GMT', 'content-type': 'application/json', 'content-length': '349', 'connection': 'keep-alive', 'x-amzn-requestid': '417dec72-64a4-402d-b580-5ef3baabe47f'}, 'RetryAttempts': 0}, 'Statement': '{\"Sid\":\"AllowText2SQLAgentAccess\",\"Effect\":\"Allow\",\"Principal\":{\"Service\":\"bedrock.amazonaws.com\"},\"Action\":\"lambda:InvokeFunction\",\"Resource\":\"arn:aws:lambda:us-west-2:761018876800:function:text2sqlv2\",\"Condition\":{\"ArnLike\":{\"AWS:SourceArn\":\"arn:aws:bedrock:us-west-2:761018876800:agent/T1GQGO9KJI\"}}}'}\n"
     ]
    }
   ],
   "source": [
    "lambda_client = boto3.client('lambda', region)\n",
    "\n",
    "# Define the resource policy statement\n",
    "policy_statement = {\n",
    "    \"Sid\": \"AllowBedrockAgentAccess\",\n",
    "    \"Effect\": \"Allow\",\n",
    "    \"Principal\": {\n",
    "        \"Service\": \"bedrock.amazonaws.com\"\n",
    "    },\n",
    "    \"Action\": \"lambda:InvokeFunction\",\n",
    "    \"Resource\": text2sql_lambda_function_arn,\n",
    "    \"Condition\": {\n",
    "        \"ArnEquals\": {\n",
    "            \"aws:SourceArn\": text2sql_agent_arn\n",
    "        }\n",
    "    }\n",
    "}\n",
    "\n",
    "try:\n",
    "    # Get the current policy\n",
    "    response = lambda_client.get_policy(FunctionName=text2sql_lambda_function_arn)\n",
    "    current_policy = json.loads(response['Policy'])\n",
    "    \n",
    "    # Add the new statement to the existing policy\n",
    "    current_policy['Statement'].append(policy_statement)\n",
    "    \n",
    "except lambda_client.exceptions.ResourceNotFoundException:\n",
    "    # If there's no existing policy, create a new one\n",
    "    current_policy = {\n",
    "        \"Version\": \"2012-10-17\",\n",
    "        \"Statement\": [policy_statement]\n",
    "    }\n",
    "\n",
    "# Convert the policy to JSON string\n",
    "updated_policy = json.dumps(current_policy)\n",
    "\n",
    "# Add or update the resource policy\n",
    "response = lambda_client.add_permission(\n",
    "    FunctionName=text2sql_lambda_function_arn,\n",
    "    StatementId=\"AllowText2SQLAgentAccess\",\n",
    "    Action=\"lambda:InvokeFunction\",\n",
    "    Principal=\"bedrock.amazonaws.com\",\n",
    "    SourceArn=text2sql_agent_arn\n",
    ")\n",
    "\n",
    "print(\"Resource policy added successfully.\")\n",
    "print(\"Response:\", response)"
   ]
  },
  {
   "cell_type": "markdown",
   "metadata": {},
   "source": [
    "### Add permissions to Lambda function execution role"
   ]
  },
  {
   "cell_type": "code",
   "execution_count": 46,
   "metadata": {},
   "outputs": [
    {
     "name": "stdout",
     "output_type": "stream",
     "text": [
      "Successfully attached arn:aws:iam::aws:policy/AmazonAthenaFullAccess to role test2sqlv2-lambda-role-us-west-2-761018876800\n",
      "Successfully attached arn:aws:iam::aws:policy/AmazonS3FullAccess to role test2sqlv2-lambda-role-us-west-2-761018876800\n",
      "\n",
      "Attached policies:\n",
      "- AWSLambdaBasicExecutionRole\n",
      "- AmazonAthenaFullAccess\n",
      "- AmazonS3FullAccess\n"
     ]
    }
   ],
   "source": [
    "# Create clients\n",
    "iam_client = boto3.client('iam')\n",
    "lambda_client = boto3.client('lambda', region)\n",
    "\n",
    "# Get the function configuration\n",
    "response = lambda_client.get_function_configuration(FunctionName=text2sql_lambda_function_name)\n",
    "role_arn = response['Role']\n",
    "role_name = role_arn.split('/')[-1]\n",
    "\n",
    "# Policy ARNs to attach\n",
    "policy_arns = [\n",
    "    'arn:aws:iam::aws:policy/AmazonAthenaFullAccess',\n",
    "    'arn:aws:iam::aws:policy/AmazonS3FullAccess'\n",
    "]\n",
    "\n",
    "# Attach each policy\n",
    "for policy_arn in policy_arns:\n",
    "    try:\n",
    "        iam_client.attach_role_policy(\n",
    "            RoleName=role_name,\n",
    "            PolicyArn=policy_arn\n",
    "        )\n",
    "        print(f\"Successfully attached {policy_arn} to role {role_name}\")\n",
    "    except Exception as e:\n",
    "        print(f\"Error attaching {policy_arn}: {str(e)}\")\n",
    "\n",
    "# Verify attached policies\n",
    "try:\n",
    "    response = iam_client.list_attached_role_policies(RoleName=role_name)\n",
    "    print(\"\\nAttached policies:\")\n",
    "    for policy in response['AttachedPolicies']:\n",
    "        print(f\"- {policy['PolicyName']}\")\n",
    "except Exception as e:\n",
    "    print(f\"Error listing policies: {str(e)}\")"
   ]
  },
  {
   "cell_type": "markdown",
   "metadata": {},
   "source": [
    "### Invoke Text2SQL Agent Test Alias to see that it answers question properly"
   ]
  },
  {
   "cell_type": "code",
   "execution_count": 50,
   "metadata": {},
   "outputs": [
    {
     "name": "stdout",
     "output_type": "stream",
     "text": [
      "Request sent to Agent:\n",
      "{'ResponseMetadata': {'RequestId': '34ace24c-708b-4877-8b62-e8f7cd8c9364', 'HTTPStatusCode': 200, 'HTTPHeaders': {'date': 'Fri, 21 Feb 2025 20:05:35 GMT', 'content-type': 'application/vnd.amazon.eventstream', 'transfer-encoding': 'chunked', 'connection': 'keep-alive', 'x-amzn-requestid': '34ace24c-708b-4877-8b62-e8f7cd8c9364', 'x-amz-bedrock-agent-session-id': '368fadd4-f08f-11ef-bbc8-0a1cef7d0875', 'x-amzn-bedrock-agent-content-type': 'application/json'}, 'RetryAttempts': 0}, 'contentType': 'application/json', 'sessionId': '368fadd4-f08f-11ef-bbc8-0a1cef7d0875', 'completion': <botocore.eventstream.EventStream object at 0x7f4db7e08490>}\n",
      "====================\n",
      "Agent processing query now\n",
      "====================\n",
      "Agent Answer: The highest eligible free rate for K-12 students in Alameda County is 100%, found at Oakland Community Day Middle school.\n",
      "====================\n",
      "CPU times: user 21.7 ms, sys: 823 μs, total: 22.5 ms\n",
      "Wall time: 17.3 s\n"
     ]
    }
   ],
   "source": [
    "%%time\n",
    "\n",
    "bedrock_agent_runtime_client = boto3.client(\"bedrock-agent-runtime\", region)\n",
    "\n",
    "session_id:str = str(uuid.uuid1())\n",
    "\n",
    "query = \"What is the highest eligible free rate for K-12 students in the schools in Alameda County?\"\n",
    "response = bedrock_agent_runtime_client.invoke_agent(\n",
    "      inputText=query,\n",
    "      agentId=text2sql_agent_id,\n",
    "      agentAliasId=\"TSTALIASID\", \n",
    "      sessionId=session_id,\n",
    "      enableTrace=True, \n",
    "      endSession=False,\n",
    "      sessionState={}\n",
    ")\n",
    "\n",
    "print(\"Request sent to Agent:\\n{}\".format(response))\n",
    "print(\"====================\")\n",
    "print(\"Agent processing query now\")\n",
    "print(\"====================\")\n",
    "\n",
    "# Initialize an empty string to store the answer\n",
    "answer = \"\"\n",
    "\n",
    "# Iterate through the event stream\n",
    "for event in response['completion']:\n",
    "    # Check if the event is a 'chunk' event\n",
    "    if 'chunk' in event:\n",
    "        chunk_obj = event['chunk']\n",
    "        if 'bytes' in chunk_obj:\n",
    "            # Decode the bytes and append to the answer\n",
    "            chunk_data = chunk_obj['bytes'].decode('utf-8')\n",
    "            answer += chunk_data\n",
    "\n",
    "# Now 'answer' contains the full response from the agent\n",
    "print(\"Agent Answer: {}\".format(answer))\n",
    "print(\"====================\")"
   ]
  },
  {
   "cell_type": "markdown",
   "metadata": {},
   "source": [
    "### Now that agent has been tested via direct invoke, prepare it by creating an alias"
   ]
  },
  {
   "cell_type": "code",
   "execution_count": 51,
   "metadata": {},
   "outputs": [
    {
     "name": "stdout",
     "output_type": "stream",
     "text": [
      "Stored 'text2sql_agent_alias_arn' (str)\n"
     ]
    },
    {
     "data": {
      "text/plain": [
       "('2ZLVI0FRSW',\n",
       " 'arn:aws:bedrock:us-west-2:761018876800:agent-alias/T1GQGO9KJI/2ZLVI0FRSW')"
      ]
     },
     "execution_count": 51,
     "metadata": {},
     "output_type": "execute_result"
    }
   ],
   "source": [
    "text2sql_agent_alias_id, text2sql_agent_alias_arn = agents.create_agent_alias(\n",
    "    text2sql_agent[0], 'v1'\n",
    ")\n",
    "\n",
    "%store text2sql_agent_alias_arn\n",
    "text2sql_agent_alias_id, text2sql_agent_alias_arn"
   ]
  },
  {
   "cell_type": "markdown",
   "metadata": {},
   "source": [
    "### Create input .json file for all Text2SQL using ground truth provided by BirdSQL Mini-Dev dataset"
   ]
  },
  {
   "cell_type": "code",
   "execution_count": 20,
   "metadata": {},
   "outputs": [
    {
     "data": {
      "text/plain": [
       "('text2sql-athena-results', 'california_schools')"
      ]
     },
     "execution_count": 20,
     "metadata": {},
     "output_type": "execute_result"
    }
   ],
   "source": [
    "ATHENA_RESULTS_BUCKET_NAME = os.environ.get('ATHENA_RESULTS_BUCKET_NAME')\n",
    "DATABASE_NAME = os.environ.get('DATABASE_NAME')\n",
    "\n",
    "ATHENA_RESULTS_BUCKET_NAME, DATABASE_NAME"
   ]
  },
  {
   "cell_type": "code",
   "execution_count": 24,
   "metadata": {},
   "outputs": [
    {
     "name": "stdout",
     "output_type": "stream",
     "text": [
      "\n",
      "Processing question 0: What is the highest eligible free rate for K-12 students in the schools in Alameda County?\n",
      "Generated ground truth for question 0\n",
      "\n",
      "Processing question 1: Please list the lowest three eligible free rates for students aged 5-17 in continuation schools.\n",
      "Generated ground truth for question 1\n",
      "\n",
      "Processing question 2: Please list the zip code of all the charter schools in Fresno County Office of Education.\n",
      "Generated ground truth for question 2\n",
      "\n",
      "Processing question 3: What is the unabbreviated mailing street address of the school with the highest FRPM count for K-12 students?\n",
      "Generated ground truth for question 3\n",
      "\n",
      "Processing question 4: Please list the phone numbers of the direct charter-funded schools that are opened after 2000/1/1.\n",
      "Generated ground truth for question 4\n",
      "\n",
      "Processed 5 questions. Results saved to text2sql_data_file_auto.json\n"
     ]
    }
   ],
   "source": [
    "import boto3\n",
    "import time\n",
    "import pandas as pd\n",
    "import json\n",
    "from typing import Dict, List, Any\n",
    "\n",
    "def run_query(query: str, athena_client):\n",
    "    \"\"\"\n",
    "    Run Athena query and return results as pandas DataFrame\n",
    "    \"\"\"\n",
    "    \n",
    "    try:\n",
    "        response = athena_client.start_query_execution(\n",
    "            QueryString=query,\n",
    "            QueryExecutionContext={\n",
    "                'Database': DATABASE_NAME\n",
    "            },\n",
    "            ResultConfiguration={\n",
    "                'OutputLocation': f's3://{ATHENA_RESULTS_BUCKET_NAME}/athena-results/'\n",
    "            }\n",
    "        )\n",
    "        \n",
    "        query_execution_id = response['QueryExecutionId']\n",
    "        \n",
    "        while True:\n",
    "            response = athena_client.get_query_execution(QueryExecutionId=query_execution_id)\n",
    "            state = response['QueryExecution']['Status']['State']\n",
    "            \n",
    "            if state in ['SUCCEEDED', 'FAILED', 'CANCELLED']:\n",
    "                break\n",
    "                \n",
    "            time.sleep(1)\n",
    "            \n",
    "        if state == 'SUCCEEDED':\n",
    "            response = athena_client.get_query_results(QueryExecutionId=query_execution_id)\n",
    "            # Process data\n",
    "            results = []\n",
    "            for row in response['ResultSet']['Rows'][1:]:  # Skip header row\n",
    "                for field in row['Data']:\n",
    "                    value = field.get('VarCharValue', '')\n",
    "                    \n",
    "                    results.append(str(value))\n",
    "            \n",
    "            # Join results with commas\n",
    "            return ', '.join(results)\n",
    "        else:\n",
    "            print(f\"Query failed with state: {state}\")\n",
    "            return None\n",
    "            \n",
    "    except Exception as e:\n",
    "        print(f\"Error running query: {e}\")\n",
    "        return None\n",
    "\n",
    "def generate_ground_truth_answer(question_id: int, question: str, sql_query: str, \n",
    "                               sql_context: str, query_results: str) -> Dict:\n",
    "    \"\"\"\n",
    "    Generate ground truth answer using AWS Bedrock based on question and query results\n",
    "    \"\"\"\n",
    "    bedrock_runtime = boto3.client(\n",
    "        service_name='bedrock-runtime'\n",
    "    )\n",
    "        \n",
    "    # Construct prompt for Bedrock\n",
    "    prompt = f\"\"\"You are generating ground truth answers that will be used to evaluate the factual correctness of Text2SQL agent responses.\n",
    "\n",
    "Question: {question}\n",
    "Query Results: {query_results}\n",
    "\n",
    "Generate a natural language answer that:\n",
    "1. States all numerical values and facts from the query results explicitly\n",
    "2. Uses consistent formatting for numbers (maintain exact precision from results)\n",
    "3. Includes all relevant values if multiple results are returned\n",
    "4. States the answer in a clear, declarative way that directly addresses the question\n",
    "5. Avoids additional interpretations or information not present in the query results\n",
    "\n",
    "Remember:\n",
    "- Focus only on the facts present in the query results\n",
    "- Use the exact numbers shown in the results\n",
    "- Structure the answer to make fact-checking straightforward\n",
    "- Be explicit about any percentages, counts, or measurements\n",
    "- Make sure every number in the query results is mentioned in your answer\n",
    "\n",
    "Your answer should be easy to compare with other responses for factual accuracy.\"\"\"\n",
    "\n",
    "    # Create request body for Claude model\n",
    "    body = json.dumps({\n",
    "        \"anthropic_version\": \"bedrock-2023-05-31\",\n",
    "        \"max_tokens\": 512,\n",
    "        \"temperature\": 0.5,\n",
    "        \"messages\": [\n",
    "            {\n",
    "                \"role\": \"user\",\n",
    "                \"content\": [{\"type\": \"text\", \"text\": prompt}],\n",
    "            }\n",
    "        ],\n",
    "    })\n",
    "\n",
    "    try:\n",
    "        # Call Bedrock\n",
    "        response = bedrock_runtime.invoke_model(\n",
    "            modelId='anthropic.claude-3-5-sonnet-20241022-v2:0',  # or your preferred model\n",
    "            body=body\n",
    "        )\n",
    "        \n",
    "        # Parse response\n",
    "        response_body = json.loads(response['body'].read())\n",
    "        answer = response_body['content'][0]['text']\n",
    "        \n",
    "        # Format the response in the required structure\n",
    "        formatted_response = {\n",
    "            \"question_id\": question_id,\n",
    "            \"question\": question,\n",
    "            \"question_type\": \"TEXT2SQL\",\n",
    "            \"ground_truth\": {\n",
    "                \"ground_truth_sql_query\": sql_query,\n",
    "                \"ground_truth_sql_context\": sql_context,\n",
    "                \"ground_truth_query_result\": query_results,\n",
    "                \"ground_truth_answer\": answer\n",
    "            }\n",
    "        }\n",
    "        \n",
    "        return formatted_response\n",
    "        \n",
    "    except Exception as e:\n",
    "        print(f\"Error generating answer: {e}\")\n",
    "        return None\n",
    "\n",
    "        \n",
    "def get_schema(athena_client):\n",
    "    \"\"\"\n",
    "    Get schema information for all tables in Athena databases\n",
    "    \"\"\"\n",
    "\n",
    "    sql = f\"\"\"\n",
    "        SELECT\n",
    "            table_name,\n",
    "            column_name,\n",
    "            data_type\n",
    "        FROM information_schema.columns\n",
    "        WHERE table_schema = '{DATABASE_NAME}'\n",
    "        ORDER BY table_name, ordinal_position;\n",
    "        \"\"\"\n",
    "        \n",
    "    try:\n",
    "        # Start query execution\n",
    "        response = athena_client.start_query_execution(\n",
    "            QueryString=sql,\n",
    "            QueryExecutionContext={\n",
    "                'Database': DATABASE_NAME\n",
    "            }\n",
    "        )\n",
    "            \n",
    "        query_execution_id = response['QueryExecutionId']\n",
    "            \n",
    "        def wait_for_query_completion(query_execution_id):\n",
    "            while True:\n",
    "                response = athena_client.get_query_execution(\n",
    "                    QueryExecutionId=query_execution_id\n",
    "                )\n",
    "                state = response['QueryExecution']['Status']['State']\n",
    "                \n",
    "                if state in ['SUCCEEDED', 'FAILED', 'CANCELLED']:\n",
    "                    return state\n",
    "                    \n",
    "                time.sleep(2)\n",
    "            \n",
    "        # Wait for query completion\n",
    "        state = wait_for_query_completion(query_execution_id)\n",
    "\n",
    "        if state == 'SUCCEEDED':\n",
    "            # Get query results\n",
    "            results = athena_client.get_query_results(\n",
    "                QueryExecutionId=query_execution_id\n",
    "            )\n",
    "            # Assuming you have a database connection and cursor setup\n",
    "            # cursor.execute(sql)\n",
    "            # results = cursor.fetchall()\n",
    "            \n",
    "            database_structure = []\n",
    "            table_dict = {}\n",
    "\n",
    "            # Skip the header row\n",
    "            rows = results['ResultSet']['Rows'][1:]\n",
    "\n",
    "            for row in rows:\n",
    "                # Extract values from the Data structure\n",
    "                table_name = row['Data'][0]['VarCharValue']\n",
    "                column_name = row['Data'][1]['VarCharValue']\n",
    "                data_type = row['Data'][2]['VarCharValue']\n",
    "                \n",
    "                # Initialize table if not exists\n",
    "                if table_name not in table_dict:\n",
    "                    table_dict[table_name] = []\n",
    "                \n",
    "                # Append column information\n",
    "                table_dict[table_name].append((column_name, data_type))\n",
    "\n",
    "            # Convert to the desired format\n",
    "            for table_name, columns in table_dict.items():\n",
    "                database_structure.append({\n",
    "                    \"table_name\": table_name,\n",
    "                    \"columns\": columns\n",
    "                })\n",
    "\n",
    "            return database_structure\n",
    "\n",
    "        else:\n",
    "            raise Exception(f\"Query failed with state: {state}\")\n",
    "    except Exception as e:\n",
    "            print(f\"Error getting schema: {e}\")\n",
    "            raise\n",
    "\n",
    "def generate_dataset(input_file: str, output_file: str, athena_client):\n",
    "    \"\"\"\n",
    "    Generate dataset with ground truth answers in trajectory format\n",
    "    \"\"\"\n",
    "    try:\n",
    "        # Read input file\n",
    "        with open(input_file, 'r') as f:\n",
    "            questions_data = json.load(f)\n",
    "        \n",
    "        # Initialize trajectories dictionary\n",
    "        trajectories = {}\n",
    "        \n",
    "        # Process each question\n",
    "        for idx, item in enumerate(questions_data):\n",
    "\n",
    "\n",
    "            # Break for testing purposes!\n",
    "            if idx == 5:\n",
    "                break\n",
    "\n",
    "\n",
    "\n",
    "                \n",
    "            question_id = item.get('question_id', 0)\n",
    "            question = item['question']\n",
    "            sql_query = item['SQL']\n",
    "            \n",
    "            print(f\"\\nProcessing question {question_id}: {question}\")\n",
    "            \n",
    "            # Get table schema\n",
    "            sql_context = get_schema(athena_client)\n",
    "            # Run query\n",
    "            query_results = run_query(sql_query.replace('`','\"'),athena_client)\n",
    "            if query_results is not None:\n",
    "                # Generate answer with formatted response\n",
    "                response = generate_ground_truth_answer(\n",
    "                    question_id=question_id,\n",
    "                    question=question,\n",
    "                    sql_query=sql_query,\n",
    "                    sql_context=str(sql_context),\n",
    "                    query_results=query_results\n",
    "                )\n",
    "                \n",
    "                if response:\n",
    "                    # Create trajectory key\n",
    "                    trajectory_key = f\"Trajectory{idx + 1}\"\n",
    "                    \n",
    "                    # Format the response for this trajectory\n",
    "                    trajectory_response = [response]\n",
    "                    \n",
    "                    # Add to trajectories dictionary\n",
    "                    trajectories[trajectory_key] = trajectory_response\n",
    "                    print(f\"Generated ground truth for question {question_id}\")\n",
    "            \n",
    "        # Write results to output file\n",
    "        with open(output_file, 'w') as f:\n",
    "            json.dump(trajectories, f, indent=2)\n",
    "            \n",
    "        print(f\"\\nProcessed {len(trajectories)} questions. Results saved to {output_file}\")\n",
    "        \n",
    "    except Exception as e:\n",
    "        print(f\"Error generating dataset: {e}\")\n",
    "\n",
    "INPUT_FILE = \"input.json\"\n",
    "OUTPUT_FILE = \"text2sql_data_file_auto.json\"\n",
    "\n",
    "athena_client = boto3.client('athena')\n",
    "\n",
    "generate_dataset(INPUT_FILE, OUTPUT_FILE,athena_client)\n"
   ]
  },
  {
   "cell_type": "markdown",
   "metadata": {},
   "source": [
    "## Run Bedrock Agent Evaluation Framework on the newly created sample Text2SQL agent"
   ]
  },
  {
   "cell_type": "markdown",
   "metadata": {},
   "source": [
    "Step 1: Navigate to config_tpl.py at the root of the repository and create a copy named 'config.py'\n",
    "\n",
    "Step 2: Fill in config.py with the below information"
   ]
  },
  {
   "cell_type": "code",
   "execution_count": 57,
   "metadata": {},
   "outputs": [
    {
     "name": "stdout",
     "output_type": "stream",
     "text": [
      "AGENT_ID= \"T1GQGO9KJI\"\n",
      "AGENT_ALIAS_ID= \"2ZLVI0FRSW\"\n",
      "DATA_FILE_PATH= \"blog_sample_agents/2-Sample-text2sql-agent/text2sql_data_file_auto.json\"\n"
     ]
    }
   ],
   "source": [
    "print(\"AGENT_ID= \\\"{}\\\"\".format(text2sql_agent_id))\n",
    "print(\"AGENT_ALIAS_ID= \\\"{}\\\"\".format(text2sql_agent_alias_id))\n",
    "print(\"DATA_FILE_PATH= \\\"{}\\\"\".format(\"blog_sample_agents/2-Sample-text2sql-agent/text2sql_data_file_auto.json\"))"
   ]
  },
  {
   "cell_type": "markdown",
   "metadata": {},
   "source": [
    "Step 3: Input the keys provided by your Langfuse project into the 'config.py' file\n",
    "\n",
    "Step 4: Run the evaluation framework against the dataset by opening a terminal, navigate to the root of the repository, and run 'python3 driver.py' "
   ]
  },
  {
   "cell_type": "code",
   "execution_count": null,
   "metadata": {},
   "outputs": [],
   "source": []
  }
 ],
 "metadata": {
  "kernelspec": {
   "display_name": "conda_python3",
   "language": "python",
   "name": "conda_python3"
  },
  "language_info": {
   "codemirror_mode": {
    "name": "ipython",
    "version": 3
   },
   "file_extension": ".py",
   "mimetype": "text/x-python",
   "name": "python",
   "nbconvert_exporter": "python",
   "pygments_lexer": "ipython3",
   "version": "3.10.16"
  }
 },
 "nbformat": 4,
 "nbformat_minor": 4
}
