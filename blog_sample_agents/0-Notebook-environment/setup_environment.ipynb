{
 "cells": [
  {
   "cell_type": "markdown",
   "id": "045a7b02-6a49-4b6d-b11f-43ed4ad3f190",
   "metadata": {
    "tags": []
   },
   "source": [
    "# Prepare Notebook Environment for Sample Agents\n",
    "In this section we prepare this notebook environment with the necessary dependencies to create the sample agents."
   ]
  },
  {
   "cell_type": "markdown",
   "id": "be755083-73cf-48b0-8d2f-06769d176503",
   "metadata": {},
   "source": [
    "#### Run the pip3 commands below to install all needed packages"
   ]
  },
  {
   "cell_type": "code",
   "execution_count": 1,
   "id": "22cff0fe-0fc5-455c-a8b7-88f7711afba7",
   "metadata": {},
   "outputs": [
    {
     "name": "stdout",
     "output_type": "stream",
     "text": [
      "Requirement already satisfied: boto3 in /home/ec2-user/anaconda3/envs/python3/lib/python3.10/site-packages (from -r requirements.txt (line 1)) (1.36.22)\n",
      "Requirement already satisfied: awscli in /home/ec2-user/anaconda3/envs/python3/lib/python3.10/site-packages (from -r requirements.txt (line 2)) (1.37.19)\n",
      "Requirement already satisfied: botocore in /home/ec2-user/anaconda3/envs/python3/lib/python3.10/site-packages (from -r requirements.txt (line 3)) (1.36.22)\n",
      "Requirement already satisfied: opensearch-py in /home/ec2-user/anaconda3/envs/python3/lib/python3.10/site-packages (from -r requirements.txt (line 4)) (2.8.0)\n",
      "Requirement already satisfied: retrying in /home/ec2-user/anaconda3/envs/python3/lib/python3.10/site-packages (from -r requirements.txt (line 5)) (1.3.4)\n",
      "Requirement already satisfied: termcolor in /home/ec2-user/anaconda3/envs/python3/lib/python3.10/site-packages (from -r requirements.txt (line 6)) (2.5.0)\n",
      "Requirement already satisfied: rich in /home/ec2-user/anaconda3/envs/python3/lib/python3.10/site-packages (from -r requirements.txt (line 7)) (13.9.4)\n",
      "Requirement already satisfied: datasets in /home/ec2-user/anaconda3/envs/python3/lib/python3.10/site-packages (from -r requirements.txt (line 8)) (3.3.1)\n",
      "Requirement already satisfied: jmespath<2.0.0,>=0.7.1 in /home/ec2-user/anaconda3/envs/python3/lib/python3.10/site-packages (from boto3->-r requirements.txt (line 1)) (1.0.1)\n",
      "Requirement already satisfied: s3transfer<0.12.0,>=0.11.0 in /home/ec2-user/anaconda3/envs/python3/lib/python3.10/site-packages (from boto3->-r requirements.txt (line 1)) (0.11.2)\n",
      "INFO: pip is looking at multiple versions of awscli to determine which version is compatible with other requirements. This could take a while.\n",
      "Collecting awscli (from -r requirements.txt (line 2))\n",
      "  Downloading awscli-1.37.24-py3-none-any.whl.metadata (11 kB)\n",
      "Collecting botocore (from -r requirements.txt (line 3))\n",
      "  Downloading botocore-1.36.24-py3-none-any.whl.metadata (5.7 kB)\n",
      "Requirement already satisfied: docutils<0.17,>=0.10 in /home/ec2-user/anaconda3/envs/python3/lib/python3.10/site-packages (from awscli->-r requirements.txt (line 2)) (0.16)\n",
      "Requirement already satisfied: PyYAML<6.1,>=3.10 in /home/ec2-user/anaconda3/envs/python3/lib/python3.10/site-packages (from awscli->-r requirements.txt (line 2)) (6.0.2)\n",
      "Requirement already satisfied: colorama<0.4.7,>=0.2.5 in /home/ec2-user/anaconda3/envs/python3/lib/python3.10/site-packages (from awscli->-r requirements.txt (line 2)) (0.4.6)\n",
      "Requirement already satisfied: rsa<4.8,>=3.1.2 in /home/ec2-user/anaconda3/envs/python3/lib/python3.10/site-packages (from awscli->-r requirements.txt (line 2)) (4.7.2)\n",
      "Requirement already satisfied: python-dateutil<3.0.0,>=2.1 in /home/ec2-user/anaconda3/envs/python3/lib/python3.10/site-packages (from botocore->-r requirements.txt (line 3)) (2.9.0.post0)\n",
      "Requirement already satisfied: urllib3!=2.2.0,<3,>=1.25.4 in /home/ec2-user/anaconda3/envs/python3/lib/python3.10/site-packages (from botocore->-r requirements.txt (line 3)) (2.3.0)\n",
      "Requirement already satisfied: requests<3.0.0,>=2.32.0 in /home/ec2-user/anaconda3/envs/python3/lib/python3.10/site-packages (from opensearch-py->-r requirements.txt (line 4)) (2.32.3)\n",
      "Requirement already satisfied: certifi>=2024.07.04 in /home/ec2-user/anaconda3/envs/python3/lib/python3.10/site-packages (from opensearch-py->-r requirements.txt (line 4)) (2025.1.31)\n",
      "Requirement already satisfied: Events in /home/ec2-user/anaconda3/envs/python3/lib/python3.10/site-packages (from opensearch-py->-r requirements.txt (line 4)) (0.5)\n",
      "Requirement already satisfied: six>=1.7.0 in /home/ec2-user/anaconda3/envs/python3/lib/python3.10/site-packages (from retrying->-r requirements.txt (line 5)) (1.17.0)\n",
      "Requirement already satisfied: markdown-it-py>=2.2.0 in /home/ec2-user/anaconda3/envs/python3/lib/python3.10/site-packages (from rich->-r requirements.txt (line 7)) (3.0.0)\n",
      "Requirement already satisfied: pygments<3.0.0,>=2.13.0 in /home/ec2-user/anaconda3/envs/python3/lib/python3.10/site-packages (from rich->-r requirements.txt (line 7)) (2.19.1)\n",
      "Requirement already satisfied: typing-extensions<5.0,>=4.0.0 in /home/ec2-user/anaconda3/envs/python3/lib/python3.10/site-packages (from rich->-r requirements.txt (line 7)) (4.12.2)\n",
      "Requirement already satisfied: filelock in /home/ec2-user/anaconda3/envs/python3/lib/python3.10/site-packages (from datasets->-r requirements.txt (line 8)) (3.17.0)\n",
      "Requirement already satisfied: numpy>=1.17 in /home/ec2-user/anaconda3/envs/python3/lib/python3.10/site-packages (from datasets->-r requirements.txt (line 8)) (1.26.4)\n",
      "Requirement already satisfied: pyarrow>=15.0.0 in /home/ec2-user/anaconda3/envs/python3/lib/python3.10/site-packages (from datasets->-r requirements.txt (line 8)) (19.0.0)\n",
      "Requirement already satisfied: dill<0.3.9,>=0.3.0 in /home/ec2-user/anaconda3/envs/python3/lib/python3.10/site-packages (from datasets->-r requirements.txt (line 8)) (0.3.8)\n",
      "Requirement already satisfied: pandas in /home/ec2-user/anaconda3/envs/python3/lib/python3.10/site-packages (from datasets->-r requirements.txt (line 8)) (1.5.3)\n",
      "Requirement already satisfied: tqdm>=4.66.3 in /home/ec2-user/anaconda3/envs/python3/lib/python3.10/site-packages (from datasets->-r requirements.txt (line 8)) (4.67.1)\n",
      "Requirement already satisfied: xxhash in /home/ec2-user/anaconda3/envs/python3/lib/python3.10/site-packages (from datasets->-r requirements.txt (line 8)) (3.5.0)\n",
      "Requirement already satisfied: multiprocess<0.70.17 in /home/ec2-user/anaconda3/envs/python3/lib/python3.10/site-packages (from datasets->-r requirements.txt (line 8)) (0.70.16)\n",
      "Requirement already satisfied: fsspec<=2024.12.0,>=2023.1.0 in /home/ec2-user/anaconda3/envs/python3/lib/python3.10/site-packages (from fsspec[http]<=2024.12.0,>=2023.1.0->datasets->-r requirements.txt (line 8)) (2024.12.0)\n",
      "Requirement already satisfied: aiohttp in /home/ec2-user/anaconda3/envs/python3/lib/python3.10/site-packages (from datasets->-r requirements.txt (line 8)) (3.11.11)\n",
      "Requirement already satisfied: huggingface-hub>=0.24.0 in /home/ec2-user/anaconda3/envs/python3/lib/python3.10/site-packages (from datasets->-r requirements.txt (line 8)) (0.28.1)\n",
      "Requirement already satisfied: packaging in /home/ec2-user/anaconda3/envs/python3/lib/python3.10/site-packages (from datasets->-r requirements.txt (line 8)) (21.3)\n",
      "Requirement already satisfied: aiohappyeyeballs>=2.3.0 in /home/ec2-user/anaconda3/envs/python3/lib/python3.10/site-packages (from aiohttp->datasets->-r requirements.txt (line 8)) (2.4.4)\n",
      "Requirement already satisfied: aiosignal>=1.1.2 in /home/ec2-user/anaconda3/envs/python3/lib/python3.10/site-packages (from aiohttp->datasets->-r requirements.txt (line 8)) (1.3.2)\n",
      "Requirement already satisfied: async-timeout<6.0,>=4.0 in /home/ec2-user/anaconda3/envs/python3/lib/python3.10/site-packages (from aiohttp->datasets->-r requirements.txt (line 8)) (5.0.1)\n",
      "Requirement already satisfied: attrs>=17.3.0 in /home/ec2-user/anaconda3/envs/python3/lib/python3.10/site-packages (from aiohttp->datasets->-r requirements.txt (line 8)) (23.2.0)\n",
      "Requirement already satisfied: frozenlist>=1.1.1 in /home/ec2-user/anaconda3/envs/python3/lib/python3.10/site-packages (from aiohttp->datasets->-r requirements.txt (line 8)) (1.5.0)\n",
      "Requirement already satisfied: multidict<7.0,>=4.5 in /home/ec2-user/anaconda3/envs/python3/lib/python3.10/site-packages (from aiohttp->datasets->-r requirements.txt (line 8)) (6.1.0)\n",
      "Requirement already satisfied: propcache>=0.2.0 in /home/ec2-user/anaconda3/envs/python3/lib/python3.10/site-packages (from aiohttp->datasets->-r requirements.txt (line 8)) (0.2.1)\n",
      "Requirement already satisfied: yarl<2.0,>=1.17.0 in /home/ec2-user/anaconda3/envs/python3/lib/python3.10/site-packages (from aiohttp->datasets->-r requirements.txt (line 8)) (1.18.3)\n",
      "Requirement already satisfied: mdurl~=0.1 in /home/ec2-user/anaconda3/envs/python3/lib/python3.10/site-packages (from markdown-it-py>=2.2.0->rich->-r requirements.txt (line 7)) (0.1.2)\n",
      "Requirement already satisfied: pyparsing!=3.0.5,>=2.0.2 in /home/ec2-user/anaconda3/envs/python3/lib/python3.10/site-packages (from packaging->datasets->-r requirements.txt (line 8)) (3.2.1)\n",
      "Requirement already satisfied: charset_normalizer<4,>=2 in /home/ec2-user/anaconda3/envs/python3/lib/python3.10/site-packages (from requests<3.0.0,>=2.32.0->opensearch-py->-r requirements.txt (line 4)) (3.4.1)\n",
      "Requirement already satisfied: idna<4,>=2.5 in /home/ec2-user/anaconda3/envs/python3/lib/python3.10/site-packages (from requests<3.0.0,>=2.32.0->opensearch-py->-r requirements.txt (line 4)) (3.10)\n",
      "Requirement already satisfied: pyasn1>=0.1.3 in /home/ec2-user/anaconda3/envs/python3/lib/python3.10/site-packages (from rsa<4.8,>=3.1.2->awscli->-r requirements.txt (line 2)) (0.6.1)\n",
      "Requirement already satisfied: pytz>=2020.1 in /home/ec2-user/anaconda3/envs/python3/lib/python3.10/site-packages (from pandas->datasets->-r requirements.txt (line 8)) (2025.1)\n",
      "Downloading awscli-1.37.24-py3-none-any.whl (4.6 MB)\n",
      "\u001b[2K   \u001b[90m━━━━━━━━━━━━━━━━━━━━━━━━━━━━━━━━━━━━━━━━\u001b[0m \u001b[32m4.6/4.6 MB\u001b[0m \u001b[31m77.9 MB/s\u001b[0m eta \u001b[36m0:00:00\u001b[0m\n",
      "Downloading botocore-1.36.24-py3-none-any.whl (13.4 MB)\n",
      "\u001b[2K   \u001b[90m━━━━━━━━━━━━━━━━━━━━━━━━━━━━━━━━━━━━━━━━\u001b[0m \u001b[32m13.4/13.4 MB\u001b[0m \u001b[31m99.6 MB/s\u001b[0m eta \u001b[36m0:00:00\u001b[0m\n",
      "Installing collected packages: botocore, awscli\n",
      "  Attempting uninstall: botocore\n",
      "    Found existing installation: botocore 1.36.22\n",
      "    Uninstalling botocore-1.36.22:\n",
      "      Successfully uninstalled botocore-1.36.22\n",
      "  Attempting uninstall: awscli\n",
      "    Found existing installation: awscli 1.37.19\n",
      "    Uninstalling awscli-1.37.19:\n",
      "      Successfully uninstalled awscli-1.37.19\n",
      "Successfully installed awscli-1.37.24 botocore-1.36.24\n",
      "Requirement already satisfied: boto3 in /home/ec2-user/anaconda3/envs/python3/lib/python3.10/site-packages (1.36.22)\n",
      "Collecting boto3\n",
      "  Downloading boto3-1.36.24-py3-none-any.whl.metadata (6.7 kB)\n",
      "Requirement already satisfied: botocore<1.37.0,>=1.36.24 in /home/ec2-user/anaconda3/envs/python3/lib/python3.10/site-packages (from boto3) (1.36.24)\n",
      "Requirement already satisfied: jmespath<2.0.0,>=0.7.1 in /home/ec2-user/anaconda3/envs/python3/lib/python3.10/site-packages (from boto3) (1.0.1)\n",
      "Requirement already satisfied: s3transfer<0.12.0,>=0.11.0 in /home/ec2-user/anaconda3/envs/python3/lib/python3.10/site-packages (from boto3) (0.11.2)\n",
      "Requirement already satisfied: python-dateutil<3.0.0,>=2.1 in /home/ec2-user/anaconda3/envs/python3/lib/python3.10/site-packages (from botocore<1.37.0,>=1.36.24->boto3) (2.9.0.post0)\n",
      "Requirement already satisfied: urllib3!=2.2.0,<3,>=1.25.4 in /home/ec2-user/anaconda3/envs/python3/lib/python3.10/site-packages (from botocore<1.37.0,>=1.36.24->boto3) (2.3.0)\n",
      "Requirement already satisfied: six>=1.5 in /home/ec2-user/anaconda3/envs/python3/lib/python3.10/site-packages (from python-dateutil<3.0.0,>=2.1->botocore<1.37.0,>=1.36.24->boto3) (1.17.0)\n",
      "Downloading boto3-1.36.24-py3-none-any.whl (139 kB)\n",
      "Installing collected packages: boto3\n",
      "  Attempting uninstall: boto3\n",
      "    Found existing installation: boto3 1.36.22\n",
      "    Uninstalling boto3-1.36.22:\n",
      "      Successfully uninstalled boto3-1.36.22\n",
      "Successfully installed boto3-1.36.24\n",
      "Name: boto3\n",
      "Version: 1.36.24\n",
      "Summary: The AWS SDK for Python\n",
      "Home-page: https://github.com/boto/boto3\n",
      "Author: Amazon Web Services\n",
      "Author-email: \n",
      "License: Apache License 2.0\n",
      "Location: /home/ec2-user/anaconda3/envs/python3/lib/python3.10/site-packages\n",
      "Requires: botocore, jmespath, s3transfer\n",
      "Required-by: sagemaker, sagemaker-core\n"
     ]
    }
   ],
   "source": [
    "!pip3 install -r requirements.txt\n",
    "!pip3 install --upgrade boto3\n",
    "!pip3 show boto3"
   ]
  },
  {
   "cell_type": "markdown",
   "id": "057a6dc9-bfea-44ce-8a7d-36fa5aca1d97",
   "metadata": {},
   "source": [
    "#### Ensure the latest version of boto3 is shown below"
   ]
  },
  {
   "cell_type": "code",
   "execution_count": 2,
   "id": "5aaf9d4b-6c68-452b-be00-65aee9ec8af4",
   "metadata": {
    "tags": []
   },
   "outputs": [
    {
     "name": "stdout",
     "output_type": "stream",
     "text": [
      "boto3==1.36.24\n"
     ]
    }
   ],
   "source": [
    "!pip freeze | grep boto3"
   ]
  },
  {
   "cell_type": "markdown",
   "id": "3d89cd8b-73ff-4cef-b040-31cc4e4b0233",
   "metadata": {},
   "source": [
    "#### Import all needed Python libraries"
   ]
  },
  {
   "cell_type": "code",
   "execution_count": 3,
   "id": "f56fe856-e1d4-42f1-aaf0-424f04ff4ba9",
   "metadata": {},
   "outputs": [
    {
     "name": "stdout",
     "output_type": "stream",
     "text": [
      "Stored 'IMPORTS_PATH' (str)\n"
     ]
    }
   ],
   "source": [
    "import os\n",
    "IMPORTS_PATH = os.path.abspath(os.path.join(os.getcwd(), \"utils.ipynb\"))\n",
    "%store IMPORTS_PATH"
   ]
  },
  {
   "cell_type": "code",
   "execution_count": 5,
   "id": "4ac91f55-082e-4508-815a-2e36013d1841",
   "metadata": {},
   "outputs": [
    {
     "name": "stdout",
     "output_type": "stream",
     "text": [
      "Successfully imported necessary libraries into notebook\n"
     ]
    }
   ],
   "source": [
    "%run $IMPORTS_PATH"
   ]
  },
  {
   "cell_type": "markdown",
   "id": "17e2d364-aab0-45fc-bf0f-2ad4bd8d9918",
   "metadata": {},
   "source": [
    "#### Extract account information needed for agent creation and define needed agent models"
   ]
  },
  {
   "cell_type": "code",
   "execution_count": 7,
   "id": "657e0b1a-d4ff-4cfc-bb50-b64f888ca773",
   "metadata": {},
   "outputs": [],
   "source": [
    "# boto3 session\n",
    "sts_client = boto3.client('sts')\n",
    "session = boto3.session.Session()\n",
    "\n",
    "# Account info\n",
    "account_id = sts_client.get_caller_identity()[\"Account\"]\n",
    "region = session.region_name\n",
    "\n",
    "# FM used for all Biomarker sub-agents\n",
    "agent_foundation_model = [\"anthropic.claude-3-5-sonnet-20241022-v2:0\"]"
   ]
  },
  {
   "cell_type": "markdown",
   "id": "62cf3207-9bad-4be7-8dc9-378b8c487819",
   "metadata": {},
   "source": [
    "#### Ensure that you have access to the Bedrock model Claude Sonnet 3.5 v2\n",
    "If you have to enable model access, give a couple minutes before proceeding with agent creation"
   ]
  },
  {
   "cell_type": "markdown",
   "id": "9c6a97f3-d0a7-4715-b24d-7cb1f3fda07a",
   "metadata": {},
   "source": [
    "#### Store all needed variables in environment for future use in development"
   ]
  },
  {
   "cell_type": "code",
   "execution_count": 8,
   "id": "70ef6cb8-0b7b-42ee-8c91-673bbea5b126",
   "metadata": {
    "tags": []
   },
   "outputs": [
    {
     "name": "stdout",
     "output_type": "stream",
     "text": [
      "Stored 'account_id' (str)\n",
      "Stored 'region' (str)\n",
      "Stored 'agent_foundation_model' (list)\n"
     ]
    }
   ],
   "source": [
    "# Store account info\n",
    "%store account_id\n",
    "%store region\n",
    "\n",
    "# Store model lists\n",
    "%store agent_foundation_model"
   ]
  },
  {
   "cell_type": "markdown",
   "id": "139313c1-923b-4a14-ad29-43bfbdedacd9",
   "metadata": {},
   "source": [
    "#### Navigate to the SageMaker Notebook execution role displayed below in IAM and attach the following policies: \n",
    "\n",
    "##### [\"BedrockFullAccess\", \"IAMFullAccess\", \"AWSLambda_FullAccess\", \"AmazonS3FullAccess\"]\n",
    "\n",
    "Give a few minutes for these permissions to update"
   ]
  },
  {
   "cell_type": "code",
   "execution_count": 9,
   "id": "cd013e32-049b-44d5-925e-b46f0778f46a",
   "metadata": {},
   "outputs": [
    {
     "name": "stdout",
     "output_type": "stream",
     "text": [
      "SageMaker Execution Role: arn:aws:iam::761018876800:role/biomakeragent-AgentBuildNest-SageMakerExecutionRole-kvD8zSoPKC2k\n"
     ]
    }
   ],
   "source": [
    "# Output SageMaker Notebook execution role for user to add policies to\n",
    "\n",
    "# Get the SageMaker session\n",
    "sagemaker_session = sagemaker.Session()\n",
    "\n",
    "# Get the execution role\n",
    "role = sagemaker_session.get_caller_identity_arn()\n",
    "\n",
    "print(f\"SageMaker Execution Role: {role}\")"
   ]
  }
 ],
 "metadata": {
  "kernelspec": {
   "display_name": "conda_python3",
   "language": "python",
   "name": "conda_python3"
  },
  "language_info": {
   "codemirror_mode": {
    "name": "ipython",
    "version": 3
   },
   "file_extension": ".py",
   "mimetype": "text/x-python",
   "name": "python",
   "nbconvert_exporter": "python",
   "pygments_lexer": "ipython3",
   "version": "3.10.16"
  }
 },
 "nbformat": 4,
 "nbformat_minor": 5
}
